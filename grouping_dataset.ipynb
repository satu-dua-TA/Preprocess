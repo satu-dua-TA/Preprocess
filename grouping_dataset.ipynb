{
 "cells": [
  {
   "cell_type": "code",
   "execution_count": 1,
   "metadata": {},
   "outputs": [],
   "source": [
    "import os\n",
    "import re\n",
    "import pandas as pd"
   ]
  },
  {
   "cell_type": "code",
   "execution_count": null,
   "metadata": {},
   "outputs": [
    {
     "name": "stdout",
     "output_type": "stream",
     "text": [
      "Processing complete. Files saved.\n"
     ]
    }
   ],
   "source": [
    "def categorize_and_save(input_csv):\n",
    "    # Define categories\n",
    "    categories = {\n",
    "        \"kubu_01\": [\"anies\", \"anis\", \"cak imin\", \"muhaimin iskandar\", r\"\\b01\\b\"],\n",
    "        \"kubu_02\": [\"prabowo\", \"gibran\", r\"\\b02\\b\"],\n",
    "        \"kubu_03\": [\"ganjar\", \"mahfud\", r\"\\b03\\b\"]\n",
    "    }\n",
    "    \n",
    "    # Load dataset\n",
    "    df = pd.read_csv(input_csv)\n",
    "    \n",
    "    # Ensure 'full_text' column exists\n",
    "    if 'full_text' not in df.columns:\n",
    "        raise ValueError(\"The dataset must contain a 'full_text' column.\")\n",
    "    \n",
    "    # Create empty DataFrames for each category\n",
    "    categorized_dfs = {cat: pd.DataFrame(columns=df.columns) for cat in categories}\n",
    "    general_df = pd.DataFrame(columns=df.columns)\n",
    "    \n",
    "    # Create tracking DataFrame for overlaps\n",
    "    overlap_counts = {\n",
    "        \"01_02\": 0,\n",
    "        \"01_03\": 0,\n",
    "        \"02_03\": 0,\n",
    "        \"01_02_03\": 0\n",
    "    }\n",
    "    \n",
    "    multi_category_df = pd.DataFrame(columns=df.columns.tolist() + [\"categories\"])\n",
    "    \n",
    "    for index, row in df.iterrows():\n",
    "        text = str(row['full_text']).lower()\n",
    "        matched_categories = []\n",
    "        \n",
    "        # Check for category matches, ensuring numbers are standalone\n",
    "        for cat, keywords in categories.items():\n",
    "            for keyword in keywords:\n",
    "                if isinstance(keyword, str) and keyword in text:\n",
    "                    matched_categories.append(cat)\n",
    "                elif isinstance(keyword, str) and re.search(keyword, text):\n",
    "                    matched_categories.append(cat)\n",
    "        \n",
    "        matched_categories = list(set(matched_categories))  # Remove duplicates\n",
    "        \n",
    "        # Assign to respective categories\n",
    "        for cat in matched_categories:\n",
    "            categorized_dfs[cat] = pd.concat([categorized_dfs[cat], pd.DataFrame([row])], ignore_index=True)\n",
    "        \n",
    "        # If no category matched, add to general\n",
    "        if not matched_categories:\n",
    "            general_df = pd.concat([general_df, pd.DataFrame([row])], ignore_index=True)\n",
    "        \n",
    "        # Track multiple category matches\n",
    "        if len(matched_categories) > 1:\n",
    "            row_with_cats = row.tolist() + [\", \".join(matched_categories)]\n",
    "            multi_category_df = pd.concat([multi_category_df, pd.DataFrame([row_with_cats], columns=multi_category_df.columns)], ignore_index=True)\n",
    "            \n",
    "            # Count category overlaps\n",
    "            matched_set = set(matched_categories)\n",
    "            if matched_set == {\"kubu_01\", \"kubu_02\"}:\n",
    "                overlap_counts[\"01_02\"] += 1\n",
    "            elif matched_set == {\"kubu_01\", \"kubu_03\"}:\n",
    "                overlap_counts[\"01_03\"] += 1\n",
    "            elif matched_set == {\"kubu_02\", \"kubu_03\"}:\n",
    "                overlap_counts[\"02_03\"] += 1\n",
    "            elif matched_set == {\"kubu_01\", \"kubu_02\", \"kubu_03\"}:\n",
    "                overlap_counts[\"01_02_03\"] += 1\n",
    "    \n",
    "    # Save to CSV\n",
    "    for cat, df_cat in categorized_dfs.items():\n",
    "        df_cat.to_csv(f\"{cat}.csv\", index=False)\n",
    "    general_df.to_csv(\"general.csv\", index=False)\n",
    "    multi_category_df.to_csv(\"multi_category.csv\", index=False)\n",
    "    \n",
    "    # Save overlap counts\n",
    "    overlap_df = pd.DataFrame(list(overlap_counts.items()), columns=[\"Overlap\", \"Count\"])\n",
    "    overlap_df.to_csv(\"overlap_counts.csv\", index=False)\n",
    "    \n",
    "    print(\"Processing complete. Files saved.\")\n",
    "\n",
    "\n",
    "categorize_and_save('dataset/general.csv')"
   ]
  }
 ],
 "metadata": {
  "kernelspec": {
   "display_name": "env",
   "language": "python",
   "name": "python3"
  },
  "language_info": {
   "codemirror_mode": {
    "name": "ipython",
    "version": 3
   },
   "file_extension": ".py",
   "mimetype": "text/x-python",
   "name": "python",
   "nbconvert_exporter": "python",
   "pygments_lexer": "ipython3",
   "version": "3.12.3"
  }
 },
 "nbformat": 4,
 "nbformat_minor": 2
}
