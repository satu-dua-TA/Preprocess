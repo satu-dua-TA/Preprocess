{
 "cells": [
  {
   "cell_type": "markdown",
   "metadata": {},
   "source": [
    "## Import Library"
   ]
  },
  {
   "cell_type": "code",
   "execution_count": 1,
   "metadata": {},
   "outputs": [],
   "source": [
    "import os\n",
    "import re\n",
    "import numpy as np\n",
    "import pandas as pd\n",
    "import matplotlib.pyplot as plt\n",
    "import emoji\n",
    "\n",
    "import nltk\n",
    "from Sastrawi.Stemmer.StemmerFactory import StemmerFactory\n",
    "from nltk.corpus import stopwords"
   ]
  },
  {
   "cell_type": "markdown",
   "metadata": {},
   "source": [
    "## Read Dataset"
   ]
  },
  {
   "cell_type": "markdown",
   "metadata": {},
   "source": [
    "### 01 Party"
   ]
  },
  {
   "cell_type": "code",
   "execution_count": 2,
   "metadata": {},
   "outputs": [],
   "source": [
    "data_01_1 = pd.read_csv('kubu_01.csv')\n",
    "data_01_2 = pd.read_csv('dataset/#01.csv')\n",
    "data_01_3 = pd.read_csv('dataset/anies.csv')\n",
    "data_01_4 = pd.read_csv('dataset/cak_imin.csv')"
   ]
  },
  {
   "cell_type": "markdown",
   "metadata": {},
   "source": [
    "### 02 Party"
   ]
  },
  {
   "cell_type": "code",
   "execution_count": null,
   "metadata": {},
   "outputs": [],
   "source": [
    "# data_02_1 = pd.read_csv('kubu_02.csv')\n",
    "# data_02_2 = pd.read_csv('dataset/#02.csv')\n",
    "# data_02_3 = pd.read_csv('dataset/prabowo.csv')\n",
    "# data_02_4 = pd.read_csv('dataset/gibran.csv')"
   ]
  },
  {
   "cell_type": "markdown",
   "metadata": {},
   "source": [
    "### 03 Party"
   ]
  },
  {
   "cell_type": "code",
   "execution_count": 3,
   "metadata": {},
   "outputs": [],
   "source": [
    "data_03_1 = pd.read_csv('kubu_03.csv')\n",
    "data_03_2 = pd.read_csv('dataset/#03.csv')\n",
    "data_03_3 = pd.read_csv('dataset/ganjar.csv')\n",
    "data_03_4 = pd.read_csv('dataset/mahfud.csv')"
   ]
  },
  {
   "cell_type": "markdown",
   "metadata": {},
   "source": [
    "## Merged Dataset"
   ]
  },
  {
   "cell_type": "code",
   "execution_count": 4,
   "metadata": {},
   "outputs": [],
   "source": [
    "merged_kubu_01 = pd.concat([data_01_1, data_01_2, data_01_3, data_01_4], ignore_index=True)\n",
    "# merged_kubu_02 = pd.concat([data_02_1, data_02_2, data_02_3], ignore_index=True)\n",
    "merged_kubu_03 = pd.concat([data_03_1, data_03_2, data_03_3], ignore_index=True)"
   ]
  },
  {
   "cell_type": "code",
   "execution_count": 5,
   "metadata": {},
   "outputs": [
    {
     "data": {
      "text/plain": [
       "(256133, 15)"
      ]
     },
     "execution_count": 5,
     "metadata": {},
     "output_type": "execute_result"
    }
   ],
   "source": [
    "merged_kubu_01.shape"
   ]
  },
  {
   "cell_type": "code",
   "execution_count": null,
   "metadata": {},
   "outputs": [],
   "source": [
    "# merged_kubu_02.shape"
   ]
  },
  {
   "cell_type": "code",
   "execution_count": 6,
   "metadata": {},
   "outputs": [
    {
     "data": {
      "text/plain": [
       "(145956, 15)"
      ]
     },
     "execution_count": 6,
     "metadata": {},
     "output_type": "execute_result"
    }
   ],
   "source": [
    "merged_kubu_03.shape"
   ]
  },
  {
   "cell_type": "markdown",
   "metadata": {},
   "source": [
    "## Drop Unnecessary Column "
   ]
  },
  {
   "cell_type": "code",
   "execution_count": 7,
   "metadata": {},
   "outputs": [],
   "source": [
    "column_names = ['created_at', 'id_str', 'full_text', 'lang', 'location',]"
   ]
  },
  {
   "cell_type": "code",
   "execution_count": 8,
   "metadata": {},
   "outputs": [],
   "source": [
    "merged_kubu_01 = merged_kubu_01[column_names]\n",
    "# merged_kubu_02 = merged_kubu_02[column_names]\n",
    "merged_kubu_03 = merged_kubu_03[column_names]"
   ]
  },
  {
   "cell_type": "code",
   "execution_count": 9,
   "metadata": {},
   "outputs": [
    {
     "data": {
      "text/plain": [
       "Index(['created_at', 'id_str', 'full_text', 'lang', 'location'], dtype='object')"
      ]
     },
     "execution_count": 9,
     "metadata": {},
     "output_type": "execute_result"
    }
   ],
   "source": [
    "merged_kubu_01.columns"
   ]
  },
  {
   "cell_type": "code",
   "execution_count": null,
   "metadata": {},
   "outputs": [],
   "source": [
    "# merged_kubu_02.columns"
   ]
  },
  {
   "cell_type": "code",
   "execution_count": 10,
   "metadata": {},
   "outputs": [
    {
     "data": {
      "text/plain": [
       "Index(['created_at', 'id_str', 'full_text', 'lang', 'location'], dtype='object')"
      ]
     },
     "execution_count": 10,
     "metadata": {},
     "output_type": "execute_result"
    }
   ],
   "source": [
    "merged_kubu_03.columns"
   ]
  },
  {
   "cell_type": "code",
   "execution_count": 11,
   "metadata": {},
   "outputs": [],
   "source": [
    "merged_kubu_01.to_csv('all_kubu_01.csv', index=False)\n",
    "# merged_kubu_02.to_csv('all_kubu_02.csv', index=False)\n",
    "merged_kubu_03.to_csv('all_kubu_03.csv', index=False)"
   ]
  },
  {
   "cell_type": "code",
   "execution_count": 12,
   "metadata": {},
   "outputs": [
    {
     "data": {
      "text/html": [
       "<div>\n",
       "<style scoped>\n",
       "    .dataframe tbody tr th:only-of-type {\n",
       "        vertical-align: middle;\n",
       "    }\n",
       "\n",
       "    .dataframe tbody tr th {\n",
       "        vertical-align: top;\n",
       "    }\n",
       "\n",
       "    .dataframe thead th {\n",
       "        text-align: right;\n",
       "    }\n",
       "</style>\n",
       "<table border=\"1\" class=\"dataframe\">\n",
       "  <thead>\n",
       "    <tr style=\"text-align: right;\">\n",
       "      <th></th>\n",
       "      <th>created_at</th>\n",
       "      <th>id_str</th>\n",
       "      <th>full_text</th>\n",
       "      <th>lang</th>\n",
       "      <th>location</th>\n",
       "    </tr>\n",
       "  </thead>\n",
       "  <tbody>\n",
       "    <tr>\n",
       "      <th>0</th>\n",
       "      <td>Wed Nov 01 13:57:05 +0000 2023</td>\n",
       "      <td>1719715185009791323</td>\n",
       "      <td>Bakal calon presiden Anies Baswedan menawarkan...</td>\n",
       "      <td>in</td>\n",
       "      <td>NKRI</td>\n",
       "    </tr>\n",
       "    <tr>\n",
       "      <th>1</th>\n",
       "      <td>Wed Nov 01 13:28:15 +0000 2023</td>\n",
       "      <td>1719707929064984595</td>\n",
       "      <td>@DPP_PKB @cakimiNOW @aniesbaswedan Menang calo...</td>\n",
       "      <td>in</td>\n",
       "      <td>NaN</td>\n",
       "    </tr>\n",
       "    <tr>\n",
       "      <th>2</th>\n",
       "      <td>Wed Nov 01 12:49:12 +0000 2023</td>\n",
       "      <td>1719698099839598743</td>\n",
       "      <td>#TemanPemilih kamu perlu tahu inilah Profil Ba...</td>\n",
       "      <td>in</td>\n",
       "      <td>Kepulauan Meranti</td>\n",
       "    </tr>\n",
       "    <tr>\n",
       "      <th>3</th>\n",
       "      <td>Wed Nov 01 10:40:34 +0000 2023</td>\n",
       "      <td>1719665731682574510</td>\n",
       "      <td>Jelang Pemilu 2024 Ini Visi dan Misi Pasangan ...</td>\n",
       "      <td>in</td>\n",
       "      <td>JKT, Indonesia</td>\n",
       "    </tr>\n",
       "    <tr>\n",
       "      <th>4</th>\n",
       "      <td>Wed Nov 01 10:17:39 +0000 2023</td>\n",
       "      <td>1719659964279791750</td>\n",
       "      <td>untuk mengambil keputusan yang strategis terma...</td>\n",
       "      <td>in</td>\n",
       "      <td>NaN</td>\n",
       "    </tr>\n",
       "  </tbody>\n",
       "</table>\n",
       "</div>"
      ],
      "text/plain": [
       "                       created_at               id_str  \\\n",
       "0  Wed Nov 01 13:57:05 +0000 2023  1719715185009791323   \n",
       "1  Wed Nov 01 13:28:15 +0000 2023  1719707929064984595   \n",
       "2  Wed Nov 01 12:49:12 +0000 2023  1719698099839598743   \n",
       "3  Wed Nov 01 10:40:34 +0000 2023  1719665731682574510   \n",
       "4  Wed Nov 01 10:17:39 +0000 2023  1719659964279791750   \n",
       "\n",
       "                                           full_text lang           location  \n",
       "0  Bakal calon presiden Anies Baswedan menawarkan...   in               NKRI  \n",
       "1  @DPP_PKB @cakimiNOW @aniesbaswedan Menang calo...   in                NaN  \n",
       "2  #TemanPemilih kamu perlu tahu inilah Profil Ba...   in  Kepulauan Meranti  \n",
       "3  Jelang Pemilu 2024 Ini Visi dan Misi Pasangan ...   in     JKT, Indonesia  \n",
       "4  untuk mengambil keputusan yang strategis terma...   in                NaN  "
      ]
     },
     "execution_count": 12,
     "metadata": {},
     "output_type": "execute_result"
    }
   ],
   "source": [
    "merged_kubu_01.head()"
   ]
  },
  {
   "cell_type": "code",
   "execution_count": null,
   "metadata": {},
   "outputs": [],
   "source": [
    "# merged_kubu_02.head()"
   ]
  },
  {
   "cell_type": "code",
   "execution_count": 13,
   "metadata": {},
   "outputs": [
    {
     "data": {
      "text/html": [
       "<div>\n",
       "<style scoped>\n",
       "    .dataframe tbody tr th:only-of-type {\n",
       "        vertical-align: middle;\n",
       "    }\n",
       "\n",
       "    .dataframe tbody tr th {\n",
       "        vertical-align: top;\n",
       "    }\n",
       "\n",
       "    .dataframe thead th {\n",
       "        text-align: right;\n",
       "    }\n",
       "</style>\n",
       "<table border=\"1\" class=\"dataframe\">\n",
       "  <thead>\n",
       "    <tr style=\"text-align: right;\">\n",
       "      <th></th>\n",
       "      <th>created_at</th>\n",
       "      <th>id_str</th>\n",
       "      <th>full_text</th>\n",
       "      <th>lang</th>\n",
       "      <th>location</th>\n",
       "    </tr>\n",
       "  </thead>\n",
       "  <tbody>\n",
       "    <tr>\n",
       "      <th>0</th>\n",
       "      <td>Wed Nov 01 23:50:57 +0000 2023</td>\n",
       "      <td>1719864638417072610</td>\n",
       "      <td>@Nikmatul_Sg @ganjarpranowo Sehat slalu pak Ga...</td>\n",
       "      <td>in</td>\n",
       "      <td>NaN</td>\n",
       "    </tr>\n",
       "    <tr>\n",
       "      <th>1</th>\n",
       "      <td>Wed Nov 01 23:08:42 +0000 2023</td>\n",
       "      <td>1719854004728218083</td>\n",
       "      <td>@ganjarpranowo Pak Ganjar dan Pak Mahfud MD Ad...</td>\n",
       "      <td>in</td>\n",
       "      <td>NaN</td>\n",
       "    </tr>\n",
       "    <tr>\n",
       "      <th>2</th>\n",
       "      <td>Wed Nov 01 22:39:15 +0000 2023</td>\n",
       "      <td>1719846593959252412</td>\n",
       "      <td>@Melihat_Indo Rahajeng Rawuh Di Bali Kedatanga...</td>\n",
       "      <td>in</td>\n",
       "      <td>NaN</td>\n",
       "    </tr>\n",
       "    <tr>\n",
       "      <th>3</th>\n",
       "      <td>Wed Nov 01 16:00:38 +0000 2023</td>\n",
       "      <td>1719746277183988034</td>\n",
       "      <td>Kedatangan bakal calon presiden (bacapres) 202...</td>\n",
       "      <td>in</td>\n",
       "      <td>NaN</td>\n",
       "    </tr>\n",
       "    <tr>\n",
       "      <th>4</th>\n",
       "      <td>Wed Nov 01 15:59:34 +0000 2023</td>\n",
       "      <td>1719746008316604750</td>\n",
       "      <td>Kedatangan bakal calon presiden (bacapres) 202...</td>\n",
       "      <td>in</td>\n",
       "      <td>NaN</td>\n",
       "    </tr>\n",
       "  </tbody>\n",
       "</table>\n",
       "</div>"
      ],
      "text/plain": [
       "                       created_at               id_str  \\\n",
       "0  Wed Nov 01 23:50:57 +0000 2023  1719864638417072610   \n",
       "1  Wed Nov 01 23:08:42 +0000 2023  1719854004728218083   \n",
       "2  Wed Nov 01 22:39:15 +0000 2023  1719846593959252412   \n",
       "3  Wed Nov 01 16:00:38 +0000 2023  1719746277183988034   \n",
       "4  Wed Nov 01 15:59:34 +0000 2023  1719746008316604750   \n",
       "\n",
       "                                           full_text lang location  \n",
       "0  @Nikmatul_Sg @ganjarpranowo Sehat slalu pak Ga...   in      NaN  \n",
       "1  @ganjarpranowo Pak Ganjar dan Pak Mahfud MD Ad...   in      NaN  \n",
       "2  @Melihat_Indo Rahajeng Rawuh Di Bali Kedatanga...   in      NaN  \n",
       "3  Kedatangan bakal calon presiden (bacapres) 202...   in      NaN  \n",
       "4  Kedatangan bakal calon presiden (bacapres) 202...   in      NaN  "
      ]
     },
     "execution_count": 13,
     "metadata": {},
     "output_type": "execute_result"
    }
   ],
   "source": [
    "merged_kubu_03.head()"
   ]
  },
  {
   "cell_type": "markdown",
   "metadata": {},
   "source": [
    "## Transform Column 'created_at' to Date"
   ]
  },
  {
   "cell_type": "code",
   "execution_count": 14,
   "metadata": {},
   "outputs": [],
   "source": [
    "def simplify_and_sort_created_at(df):\n",
    "    df['created_at'] = pd.to_datetime(df['created_at'], format='%a %b %d %H:%M:%S %z %Y').dt.date\n",
    "    return df.sort_values(by='created_at')"
   ]
  },
  {
   "cell_type": "code",
   "execution_count": 15,
   "metadata": {},
   "outputs": [],
   "source": [
    "merged_kubu_01 = simplify_and_sort_created_at(merged_kubu_01)\n",
    "# merged_kubu_02 = simplify_and_sort_created_at(merged_kubu_02)\n",
    "merged_kubu_03 = simplify_and_sort_created_at(merged_kubu_03)"
   ]
  },
  {
   "cell_type": "code",
   "execution_count": 16,
   "metadata": {},
   "outputs": [
    {
     "data": {
      "text/html": [
       "<div>\n",
       "<style scoped>\n",
       "    .dataframe tbody tr th:only-of-type {\n",
       "        vertical-align: middle;\n",
       "    }\n",
       "\n",
       "    .dataframe tbody tr th {\n",
       "        vertical-align: top;\n",
       "    }\n",
       "\n",
       "    .dataframe thead th {\n",
       "        text-align: right;\n",
       "    }\n",
       "</style>\n",
       "<table border=\"1\" class=\"dataframe\">\n",
       "  <thead>\n",
       "    <tr style=\"text-align: right;\">\n",
       "      <th></th>\n",
       "      <th>created_at</th>\n",
       "      <th>id_str</th>\n",
       "      <th>full_text</th>\n",
       "      <th>lang</th>\n",
       "      <th>location</th>\n",
       "    </tr>\n",
       "  </thead>\n",
       "  <tbody>\n",
       "    <tr>\n",
       "      <th>0</th>\n",
       "      <td>2023-11-01</td>\n",
       "      <td>1719715185009791323</td>\n",
       "      <td>Bakal calon presiden Anies Baswedan menawarkan...</td>\n",
       "      <td>in</td>\n",
       "      <td>NKRI</td>\n",
       "    </tr>\n",
       "    <tr>\n",
       "      <th>241331</th>\n",
       "      <td>2023-11-01</td>\n",
       "      <td>1719588971724833271</td>\n",
       "      <td>Ketua Umum (Ketum) Partai Kebangkitan Bangsa (...</td>\n",
       "      <td>in</td>\n",
       "      <td>NaN</td>\n",
       "    </tr>\n",
       "    <tr>\n",
       "      <th>241332</th>\n",
       "      <td>2023-11-01</td>\n",
       "      <td>1719670803023692019</td>\n",
       "      <td>پشاور- JUI کے شمولیتی پروگرام میں نوجوانوں کی ...</td>\n",
       "      <td>ur</td>\n",
       "      <td>Pakistan</td>\n",
       "    </tr>\n",
       "    <tr>\n",
       "      <th>241333</th>\n",
       "      <td>2023-11-01</td>\n",
       "      <td>1719673301428006975</td>\n",
       "      <td>#قوم_کا_حوصلہ_عمران_خان @TeamiPians These are ...</td>\n",
       "      <td>en</td>\n",
       "      <td>NaN</td>\n",
       "    </tr>\n",
       "    <tr>\n",
       "      <th>241334</th>\n",
       "      <td>2023-11-01</td>\n",
       "      <td>1719683033991966826</td>\n",
       "      <td>Anies Santri Tenan Cak Imin Santri Tenanan. Se...</td>\n",
       "      <td>in</td>\n",
       "      <td>Papua Barat, Indonesia</td>\n",
       "    </tr>\n",
       "  </tbody>\n",
       "</table>\n",
       "</div>"
      ],
      "text/plain": [
       "        created_at               id_str  \\\n",
       "0       2023-11-01  1719715185009791323   \n",
       "241331  2023-11-01  1719588971724833271   \n",
       "241332  2023-11-01  1719670803023692019   \n",
       "241333  2023-11-01  1719673301428006975   \n",
       "241334  2023-11-01  1719683033991966826   \n",
       "\n",
       "                                                full_text lang  \\\n",
       "0       Bakal calon presiden Anies Baswedan menawarkan...   in   \n",
       "241331  Ketua Umum (Ketum) Partai Kebangkitan Bangsa (...   in   \n",
       "241332  پشاور- JUI کے شمولیتی پروگرام میں نوجوانوں کی ...   ur   \n",
       "241333  #قوم_کا_حوصلہ_عمران_خان @TeamiPians These are ...   en   \n",
       "241334  Anies Santri Tenan Cak Imin Santri Tenanan. Se...   in   \n",
       "\n",
       "                      location  \n",
       "0                         NKRI  \n",
       "241331                     NaN  \n",
       "241332                Pakistan  \n",
       "241333                     NaN  \n",
       "241334  Papua Barat, Indonesia  "
      ]
     },
     "execution_count": 16,
     "metadata": {},
     "output_type": "execute_result"
    }
   ],
   "source": [
    "merged_kubu_01.head()\n"
   ]
  },
  {
   "cell_type": "code",
   "execution_count": null,
   "metadata": {},
   "outputs": [],
   "source": [
    "# merged_kubu_02.head()"
   ]
  },
  {
   "cell_type": "code",
   "execution_count": 17,
   "metadata": {},
   "outputs": [
    {
     "data": {
      "text/html": [
       "<div>\n",
       "<style scoped>\n",
       "    .dataframe tbody tr th:only-of-type {\n",
       "        vertical-align: middle;\n",
       "    }\n",
       "\n",
       "    .dataframe tbody tr th {\n",
       "        vertical-align: top;\n",
       "    }\n",
       "\n",
       "    .dataframe thead th {\n",
       "        text-align: right;\n",
       "    }\n",
       "</style>\n",
       "<table border=\"1\" class=\"dataframe\">\n",
       "  <thead>\n",
       "    <tr style=\"text-align: right;\">\n",
       "      <th></th>\n",
       "      <th>created_at</th>\n",
       "      <th>id_str</th>\n",
       "      <th>full_text</th>\n",
       "      <th>lang</th>\n",
       "      <th>location</th>\n",
       "    </tr>\n",
       "  </thead>\n",
       "  <tbody>\n",
       "    <tr>\n",
       "      <th>0</th>\n",
       "      <td>2023-11-01</td>\n",
       "      <td>1719864638417072610</td>\n",
       "      <td>@Nikmatul_Sg @ganjarpranowo Sehat slalu pak Ga...</td>\n",
       "      <td>in</td>\n",
       "      <td>NaN</td>\n",
       "    </tr>\n",
       "    <tr>\n",
       "      <th>97412</th>\n",
       "      <td>2023-11-01</td>\n",
       "      <td>1719856723031412799</td>\n",
       "      <td>@Dennysiregar7 Belajarlah memahami ucapan pres...</td>\n",
       "      <td>in</td>\n",
       "      <td>NaN</td>\n",
       "    </tr>\n",
       "    <tr>\n",
       "      <th>97411</th>\n",
       "      <td>2023-11-01</td>\n",
       "      <td>1719856723157188787</td>\n",
       "      <td>@Nikmatul_Sg @ganjarpranowo betulaaah... Pak G...</td>\n",
       "      <td>in</td>\n",
       "      <td>NaN</td>\n",
       "    </tr>\n",
       "    <tr>\n",
       "      <th>97410</th>\n",
       "      <td>2023-11-01</td>\n",
       "      <td>1719856742971101218</td>\n",
       "      <td>Bantah Sri Mulyani Masuk TPN Ganjar-Mahfud Ars...</td>\n",
       "      <td>in</td>\n",
       "      <td>Jakarta</td>\n",
       "    </tr>\n",
       "    <tr>\n",
       "      <th>97409</th>\n",
       "      <td>2023-11-01</td>\n",
       "      <td>1719856758469087593</td>\n",
       "      <td>@Melihat_Indo Rahajeng Rawuh Di Bali Pak Ganja...</td>\n",
       "      <td>in</td>\n",
       "      <td>NaN</td>\n",
       "    </tr>\n",
       "  </tbody>\n",
       "</table>\n",
       "</div>"
      ],
      "text/plain": [
       "       created_at               id_str  \\\n",
       "0      2023-11-01  1719864638417072610   \n",
       "97412  2023-11-01  1719856723031412799   \n",
       "97411  2023-11-01  1719856723157188787   \n",
       "97410  2023-11-01  1719856742971101218   \n",
       "97409  2023-11-01  1719856758469087593   \n",
       "\n",
       "                                               full_text lang location  \n",
       "0      @Nikmatul_Sg @ganjarpranowo Sehat slalu pak Ga...   in      NaN  \n",
       "97412  @Dennysiregar7 Belajarlah memahami ucapan pres...   in      NaN  \n",
       "97411  @Nikmatul_Sg @ganjarpranowo betulaaah... Pak G...   in      NaN  \n",
       "97410  Bantah Sri Mulyani Masuk TPN Ganjar-Mahfud Ars...   in  Jakarta  \n",
       "97409  @Melihat_Indo Rahajeng Rawuh Di Bali Pak Ganja...   in      NaN  "
      ]
     },
     "execution_count": 17,
     "metadata": {},
     "output_type": "execute_result"
    }
   ],
   "source": [
    "merged_kubu_03.head()"
   ]
  },
  {
   "cell_type": "markdown",
   "metadata": {},
   "source": [
    "# Pre process"
   ]
  },
  {
   "cell_type": "markdown",
   "metadata": {},
   "source": [
    "## Drop Null"
   ]
  },
  {
   "cell_type": "code",
   "execution_count": 18,
   "metadata": {},
   "outputs": [
    {
     "data": {
      "text/plain": [
       "created_at    0\n",
       "id_str        0\n",
       "full_text     0\n",
       "lang          0\n",
       "location      0\n",
       "dtype: int64"
      ]
     },
     "execution_count": 18,
     "metadata": {},
     "output_type": "execute_result"
    }
   ],
   "source": [
    "merged_kubu_01.dropna(inplace=True)\n",
    "merged_kubu_01.isnull().sum()"
   ]
  },
  {
   "cell_type": "code",
   "execution_count": null,
   "metadata": {},
   "outputs": [],
   "source": [
    "# merged_kubu_02.dropna(inplace=True)\n",
    "# merged_kubu_02.isnull().sum()"
   ]
  },
  {
   "cell_type": "code",
   "execution_count": 19,
   "metadata": {},
   "outputs": [
    {
     "data": {
      "text/plain": [
       "created_at    0\n",
       "id_str        0\n",
       "full_text     0\n",
       "lang          0\n",
       "location      0\n",
       "dtype: int64"
      ]
     },
     "execution_count": 19,
     "metadata": {},
     "output_type": "execute_result"
    }
   ],
   "source": [
    "merged_kubu_03.dropna(inplace=True)\n",
    "merged_kubu_03.isnull().sum()"
   ]
  },
  {
   "cell_type": "markdown",
   "metadata": {},
   "source": [
    "## Drop Duplicate"
   ]
  },
  {
   "cell_type": "code",
   "execution_count": 20,
   "metadata": {},
   "outputs": [
    {
     "data": {
      "text/plain": [
       "np.int64(1768)"
      ]
     },
     "execution_count": 20,
     "metadata": {},
     "output_type": "execute_result"
    }
   ],
   "source": [
    "merged_kubu_01.duplicated(subset=['id_str', 'full_text']).sum()\n",
    "# merged_kubu_02.duplicated(subset=['id_str', 'full_text']).sum()\n",
    "merged_kubu_03.duplicated(subset=['id_str', 'full_text']).sum()"
   ]
  },
  {
   "cell_type": "code",
   "execution_count": 21,
   "metadata": {},
   "outputs": [
    {
     "data": {
      "text/html": [
       "<div>\n",
       "<style scoped>\n",
       "    .dataframe tbody tr th:only-of-type {\n",
       "        vertical-align: middle;\n",
       "    }\n",
       "\n",
       "    .dataframe tbody tr th {\n",
       "        vertical-align: top;\n",
       "    }\n",
       "\n",
       "    .dataframe thead th {\n",
       "        text-align: right;\n",
       "    }\n",
       "</style>\n",
       "<table border=\"1\" class=\"dataframe\">\n",
       "  <thead>\n",
       "    <tr style=\"text-align: right;\">\n",
       "      <th></th>\n",
       "      <th>created_at</th>\n",
       "      <th>id_str</th>\n",
       "      <th>full_text</th>\n",
       "      <th>lang</th>\n",
       "      <th>location</th>\n",
       "    </tr>\n",
       "  </thead>\n",
       "  <tbody>\n",
       "    <tr>\n",
       "      <th>0</th>\n",
       "      <td>2023-11-01</td>\n",
       "      <td>1719715185009791323</td>\n",
       "      <td>Bakal calon presiden Anies Baswedan menawarkan...</td>\n",
       "      <td>in</td>\n",
       "      <td>NKRI</td>\n",
       "    </tr>\n",
       "    <tr>\n",
       "      <th>241332</th>\n",
       "      <td>2023-11-01</td>\n",
       "      <td>1719670803023692019</td>\n",
       "      <td>پشاور- JUI کے شمولیتی پروگرام میں نوجوانوں کی ...</td>\n",
       "      <td>ur</td>\n",
       "      <td>Pakistan</td>\n",
       "    </tr>\n",
       "    <tr>\n",
       "      <th>241334</th>\n",
       "      <td>2023-11-01</td>\n",
       "      <td>1719683033991966826</td>\n",
       "      <td>Anies Santri Tenan Cak Imin Santri Tenanan. Se...</td>\n",
       "      <td>in</td>\n",
       "      <td>Papua Barat, Indonesia</td>\n",
       "    </tr>\n",
       "    <tr>\n",
       "      <th>241335</th>\n",
       "      <td>2023-11-01</td>\n",
       "      <td>1719507597274038752</td>\n",
       "      <td>Ia dipanggil bay muzayadah. Rasulullah SAW per...</td>\n",
       "      <td>in</td>\n",
       "      <td>Nilai</td>\n",
       "    </tr>\n",
       "    <tr>\n",
       "      <th>241336</th>\n",
       "      <td>2023-11-01</td>\n",
       "      <td>1719687853624746016</td>\n",
       "      <td>Komitmen Paslon Anies-Muhaimin (AMIN) terhadap...</td>\n",
       "      <td>in</td>\n",
       "      <td>Depok, Indonesia</td>\n",
       "    </tr>\n",
       "    <tr>\n",
       "      <th>...</th>\n",
       "      <td>...</td>\n",
       "      <td>...</td>\n",
       "      <td>...</td>\n",
       "      <td>...</td>\n",
       "      <td>...</td>\n",
       "    </tr>\n",
       "    <tr>\n",
       "      <th>226247</th>\n",
       "      <td>2024-02-14</td>\n",
       "      <td>1757849900979548175</td>\n",
       "      <td>@ImranARaja1 kpk to azam umid war ja skte h na...</td>\n",
       "      <td>in</td>\n",
       "      <td>Trentino-Alto Adige, Italia</td>\n",
       "    </tr>\n",
       "    <tr>\n",
       "      <th>226249</th>\n",
       "      <td>2024-02-14</td>\n",
       "      <td>1757849880456802731</td>\n",
       "      <td>@ibadovnazim223 bu daha iyi</td>\n",
       "      <td>tr</td>\n",
       "      <td>Frankfurt on the Main, Germany</td>\n",
       "    </tr>\n",
       "    <tr>\n",
       "      <th>226250</th>\n",
       "      <td>2024-02-14</td>\n",
       "      <td>1757849860135673929</td>\n",
       "      <td>@CuanJuan01 @mhmmd_jati Idealis tapi tidak rea...</td>\n",
       "      <td>in</td>\n",
       "      <td>Bali</td>\n",
       "    </tr>\n",
       "    <tr>\n",
       "      <th>226252</th>\n",
       "      <td>2024-02-14</td>\n",
       "      <td>1757849828967723163</td>\n",
       "      <td>@unnesmenfess Kenapa kalau ini konteks diskusi...</td>\n",
       "      <td>in</td>\n",
       "      <td>Semarang, Jawa Tengah</td>\n",
       "    </tr>\n",
       "    <tr>\n",
       "      <th>256132</th>\n",
       "      <td>2024-02-14</td>\n",
       "      <td>1757886183689097329</td>\n",
       "      <td>capekk bgttt cak imin</td>\n",
       "      <td>in</td>\n",
       "      <td>SKY'02</td>\n",
       "    </tr>\n",
       "  </tbody>\n",
       "</table>\n",
       "<p>141698 rows × 5 columns</p>\n",
       "</div>"
      ],
      "text/plain": [
       "        created_at               id_str  \\\n",
       "0       2023-11-01  1719715185009791323   \n",
       "241332  2023-11-01  1719670803023692019   \n",
       "241334  2023-11-01  1719683033991966826   \n",
       "241335  2023-11-01  1719507597274038752   \n",
       "241336  2023-11-01  1719687853624746016   \n",
       "...            ...                  ...   \n",
       "226247  2024-02-14  1757849900979548175   \n",
       "226249  2024-02-14  1757849880456802731   \n",
       "226250  2024-02-14  1757849860135673929   \n",
       "226252  2024-02-14  1757849828967723163   \n",
       "256132  2024-02-14  1757886183689097329   \n",
       "\n",
       "                                                full_text lang  \\\n",
       "0       Bakal calon presiden Anies Baswedan menawarkan...   in   \n",
       "241332  پشاور- JUI کے شمولیتی پروگرام میں نوجوانوں کی ...   ur   \n",
       "241334  Anies Santri Tenan Cak Imin Santri Tenanan. Se...   in   \n",
       "241335  Ia dipanggil bay muzayadah. Rasulullah SAW per...   in   \n",
       "241336  Komitmen Paslon Anies-Muhaimin (AMIN) terhadap...   in   \n",
       "...                                                   ...  ...   \n",
       "226247  @ImranARaja1 kpk to azam umid war ja skte h na...   in   \n",
       "226249                        @ibadovnazim223 bu daha iyi   tr   \n",
       "226250  @CuanJuan01 @mhmmd_jati Idealis tapi tidak rea...   in   \n",
       "226252  @unnesmenfess Kenapa kalau ini konteks diskusi...   in   \n",
       "256132                              capekk bgttt cak imin   in   \n",
       "\n",
       "                              location  \n",
       "0                                 NKRI  \n",
       "241332                        Pakistan  \n",
       "241334          Papua Barat, Indonesia  \n",
       "241335                           Nilai  \n",
       "241336                Depok, Indonesia  \n",
       "...                                ...  \n",
       "226247     Trentino-Alto Adige, Italia  \n",
       "226249  Frankfurt on the Main, Germany  \n",
       "226250                            Bali  \n",
       "226252           Semarang, Jawa Tengah  \n",
       "256132                          SKY'02  \n",
       "\n",
       "[141698 rows x 5 columns]"
      ]
     },
     "execution_count": 21,
     "metadata": {},
     "output_type": "execute_result"
    }
   ],
   "source": [
    "merged_kubu_01.drop_duplicates(subset=['id_str', 'full_text'])"
   ]
  },
  {
   "cell_type": "code",
   "execution_count": null,
   "metadata": {},
   "outputs": [],
   "source": [
    "# merged_kubu_02.drop_duplicates(subset=['id_str', 'full_text'])"
   ]
  },
  {
   "cell_type": "code",
   "execution_count": 22,
   "metadata": {},
   "outputs": [
    {
     "data": {
      "text/html": [
       "<div>\n",
       "<style scoped>\n",
       "    .dataframe tbody tr th:only-of-type {\n",
       "        vertical-align: middle;\n",
       "    }\n",
       "\n",
       "    .dataframe tbody tr th {\n",
       "        vertical-align: top;\n",
       "    }\n",
       "\n",
       "    .dataframe thead th {\n",
       "        text-align: right;\n",
       "    }\n",
       "</style>\n",
       "<table border=\"1\" class=\"dataframe\">\n",
       "  <thead>\n",
       "    <tr style=\"text-align: right;\">\n",
       "      <th></th>\n",
       "      <th>created_at</th>\n",
       "      <th>id_str</th>\n",
       "      <th>full_text</th>\n",
       "      <th>lang</th>\n",
       "      <th>location</th>\n",
       "    </tr>\n",
       "  </thead>\n",
       "  <tbody>\n",
       "    <tr>\n",
       "      <th>97410</th>\n",
       "      <td>2023-11-01</td>\n",
       "      <td>1719856742971101218</td>\n",
       "      <td>Bantah Sri Mulyani Masuk TPN Ganjar-Mahfud Ars...</td>\n",
       "      <td>in</td>\n",
       "      <td>Jakarta</td>\n",
       "    </tr>\n",
       "    <tr>\n",
       "      <th>97404</th>\n",
       "      <td>2023-11-01</td>\n",
       "      <td>1719856879810355514</td>\n",
       "      <td>@ganjarpranowo Beruntung nya bisa duduk satu m...</td>\n",
       "      <td>in</td>\n",
       "      <td>Grogol Petamburan, Indonesia</td>\n",
       "    </tr>\n",
       "    <tr>\n",
       "      <th>97402</th>\n",
       "      <td>2023-11-01</td>\n",
       "      <td>1719856885795549186</td>\n",
       "      <td>@ganjarpranowo Pak Ganjar tetep yg terbaik.. s...</td>\n",
       "      <td>in</td>\n",
       "      <td>Kembangan, Indonesia</td>\n",
       "    </tr>\n",
       "    <tr>\n",
       "      <th>97400</th>\n",
       "      <td>2023-11-01</td>\n",
       "      <td>1719856929210851776</td>\n",
       "      <td>@kiki_daliyo @ganjarpranowo Rahajeng Rawuh Di ...</td>\n",
       "      <td>in</td>\n",
       "      <td>Indonesia</td>\n",
       "    </tr>\n",
       "    <tr>\n",
       "      <th>97414</th>\n",
       "      <td>2023-11-01</td>\n",
       "      <td>1719856716500828491</td>\n",
       "      <td>@ganjarpranowo Kapan lagi pemuda bali bisa lan...</td>\n",
       "      <td>in</td>\n",
       "      <td>Jakarta Capital Region</td>\n",
       "    </tr>\n",
       "    <tr>\n",
       "      <th>...</th>\n",
       "      <td>...</td>\n",
       "      <td>...</td>\n",
       "      <td>...</td>\n",
       "      <td>...</td>\n",
       "      <td>...</td>\n",
       "    </tr>\n",
       "    <tr>\n",
       "      <th>93536</th>\n",
       "      <td>2024-02-14</td>\n",
       "      <td>1757871840494784802</td>\n",
       "      <td>Di liat secara simple aja dah keliatan emg yan...</td>\n",
       "      <td>in</td>\n",
       "      <td>Malang, Jawa Timur</td>\n",
       "    </tr>\n",
       "    <tr>\n",
       "      <th>93528</th>\n",
       "      <td>2024-02-14</td>\n",
       "      <td>1757872221689966934</td>\n",
       "      <td>@godig_iN @RH25chanel63462 @Ryan_Al_Faqir Arti...</td>\n",
       "      <td>in</td>\n",
       "      <td>Pulau Andalas Raya</td>\n",
       "    </tr>\n",
       "    <tr>\n",
       "      <th>93525</th>\n",
       "      <td>2024-02-14</td>\n",
       "      <td>1757872272118055251</td>\n",
       "      <td>SIREKAP LO MENDING GAUSAH BIKIN APS DEH</td>\n",
       "      <td>in</td>\n",
       "      <td>PALESTINE 🇵🇸</td>\n",
       "    </tr>\n",
       "    <tr>\n",
       "      <th>93522</th>\n",
       "      <td>2024-02-14</td>\n",
       "      <td>1757872390087086463</td>\n",
       "      <td>Berharap menang 01/03? Lawannya anak presiden ...</td>\n",
       "      <td>in</td>\n",
       "      <td>Las venturas</td>\n",
       "    </tr>\n",
       "    <tr>\n",
       "      <th>93529</th>\n",
       "      <td>2024-02-14</td>\n",
       "      <td>1757872219857027359</td>\n",
       "      <td>SIREKAP TAIIIK</td>\n",
       "      <td>in</td>\n",
       "      <td>PALESTINE 🇵🇸</td>\n",
       "    </tr>\n",
       "  </tbody>\n",
       "</table>\n",
       "<p>73629 rows × 5 columns</p>\n",
       "</div>"
      ],
      "text/plain": [
       "       created_at               id_str  \\\n",
       "97410  2023-11-01  1719856742971101218   \n",
       "97404  2023-11-01  1719856879810355514   \n",
       "97402  2023-11-01  1719856885795549186   \n",
       "97400  2023-11-01  1719856929210851776   \n",
       "97414  2023-11-01  1719856716500828491   \n",
       "...           ...                  ...   \n",
       "93536  2024-02-14  1757871840494784802   \n",
       "93528  2024-02-14  1757872221689966934   \n",
       "93525  2024-02-14  1757872272118055251   \n",
       "93522  2024-02-14  1757872390087086463   \n",
       "93529  2024-02-14  1757872219857027359   \n",
       "\n",
       "                                               full_text lang  \\\n",
       "97410  Bantah Sri Mulyani Masuk TPN Ganjar-Mahfud Ars...   in   \n",
       "97404  @ganjarpranowo Beruntung nya bisa duduk satu m...   in   \n",
       "97402  @ganjarpranowo Pak Ganjar tetep yg terbaik.. s...   in   \n",
       "97400  @kiki_daliyo @ganjarpranowo Rahajeng Rawuh Di ...   in   \n",
       "97414  @ganjarpranowo Kapan lagi pemuda bali bisa lan...   in   \n",
       "...                                                  ...  ...   \n",
       "93536  Di liat secara simple aja dah keliatan emg yan...   in   \n",
       "93528  @godig_iN @RH25chanel63462 @Ryan_Al_Faqir Arti...   in   \n",
       "93525            SIREKAP LO MENDING GAUSAH BIKIN APS DEH   in   \n",
       "93522  Berharap menang 01/03? Lawannya anak presiden ...   in   \n",
       "93529                                     SIREKAP TAIIIK   in   \n",
       "\n",
       "                           location  \n",
       "97410                       Jakarta  \n",
       "97404  Grogol Petamburan, Indonesia  \n",
       "97402          Kembangan, Indonesia  \n",
       "97400                     Indonesia  \n",
       "97414        Jakarta Capital Region  \n",
       "...                             ...  \n",
       "93536            Malang, Jawa Timur  \n",
       "93528            Pulau Andalas Raya  \n",
       "93525                  PALESTINE 🇵🇸  \n",
       "93522                  Las venturas  \n",
       "93529                  PALESTINE 🇵🇸  \n",
       "\n",
       "[73629 rows x 5 columns]"
      ]
     },
     "execution_count": 22,
     "metadata": {},
     "output_type": "execute_result"
    }
   ],
   "source": [
    "merged_kubu_03.drop_duplicates(subset=['id_str', 'full_text'])"
   ]
  },
  {
   "cell_type": "markdown",
   "metadata": {},
   "source": [
    "## Drop Tweet That Aren't ID"
   ]
  },
  {
   "cell_type": "code",
   "execution_count": 23,
   "metadata": {},
   "outputs": [
    {
     "name": "stdout",
     "output_type": "stream",
     "text": [
      "143295\n"
     ]
    }
   ],
   "source": [
    "print(len(merged_kubu_01))"
   ]
  },
  {
   "cell_type": "code",
   "execution_count": null,
   "metadata": {},
   "outputs": [],
   "source": [
    "# print(len(merged_kubu_02))"
   ]
  },
  {
   "cell_type": "code",
   "execution_count": 24,
   "metadata": {},
   "outputs": [
    {
     "name": "stdout",
     "output_type": "stream",
     "text": [
      "75397\n"
     ]
    }
   ],
   "source": [
    "print(len(merged_kubu_03))"
   ]
  },
  {
   "cell_type": "code",
   "execution_count": 25,
   "metadata": {},
   "outputs": [],
   "source": [
    "merged_kubu_01 = merged_kubu_01[merged_kubu_01['lang'] == 'in']\n",
    "# merged_kubu_02 = merged_kubu_02[merged_kubu_02['lang'] == 'in']\n",
    "merged_kubu_03 = merged_kubu_03[merged_kubu_03['lang'] == 'in']"
   ]
  },
  {
   "cell_type": "markdown",
   "metadata": {},
   "source": [
    "## Drop @Account"
   ]
  },
  {
   "cell_type": "markdown",
   "metadata": {},
   "source": [
    "### Party 01"
   ]
  },
  {
   "cell_type": "code",
   "execution_count": 26,
   "metadata": {},
   "outputs": [],
   "source": [
    "merged_kubu_01['full_text'] = merged_kubu_01['full_text'].str.replace(r'@(?!\\w*(anies|anis)\\w*)\\w+', '', regex=True).str.strip()\n",
    "merged_kubu_01['full_text'] = merged_kubu_01['full_text'].str.replace(r'@\\w*(anies|anis)\\w*', 'anies',  regex=True ).str.strip()"
   ]
  },
  {
   "cell_type": "code",
   "execution_count": 27,
   "metadata": {},
   "outputs": [],
   "source": [
    "merged_kubu_01['full_text'] = merged_kubu_01['full_text'].str.replace(r'@(?!\\w*(cakimin)\\w*)\\w+', '', regex=True).str.strip()\n",
    "merged_kubu_01['full_text'] = merged_kubu_01['full_text'].str.replace(r'@\\w*(cakimin)\\w*', 'cak imin',  regex=True ).str.strip()"
   ]
  },
  {
   "cell_type": "markdown",
   "metadata": {},
   "source": [
    "### Party 02"
   ]
  },
  {
   "cell_type": "code",
   "execution_count": null,
   "metadata": {},
   "outputs": [],
   "source": [
    "# merged_kubu_02['full_text'] = merged_kubu_02['full_text'].str.replace(r'@(?!\\w*(prabowo)\\w*)\\w+', '', regex=True).str.strip()\n",
    "# merged_kubu_02['full_text'] = merged_kubu_02['full_text'].str.replace(r'@\\w*(prabowo)\\w*', 'prabowo',  regex=True ).str.strip()"
   ]
  },
  {
   "cell_type": "code",
   "execution_count": null,
   "metadata": {},
   "outputs": [],
   "source": [
    "# merged_kubu_02['full_text'] = merged_kubu_02['full_text'].str.replace(r'@(?!\\w*(gibran)\\w*)\\w+', '', regex=True).str.strip()\n",
    "# merged_kubu_02['full_text'] = merged_kubu_02['full_text'].str.replace(r'@\\w*(gibran)\\w*', 'gibran',  regex=True ).str.strip()"
   ]
  },
  {
   "cell_type": "markdown",
   "metadata": {},
   "source": [
    "### Party 03"
   ]
  },
  {
   "cell_type": "code",
   "execution_count": 28,
   "metadata": {},
   "outputs": [],
   "source": [
    "merged_kubu_03['full_text'] = merged_kubu_03['full_text'].str.replace(r'@(?!\\w*(ganjar)\\w*)\\w+', '', regex=True).str.strip()\n",
    "merged_kubu_03['full_text'] = merged_kubu_03['full_text'].str.replace(r'@\\w*(ganjar)\\w*', 'ganjar',  regex=True ).str.strip()"
   ]
  },
  {
   "cell_type": "code",
   "execution_count": 29,
   "metadata": {},
   "outputs": [],
   "source": [
    "merged_kubu_03['full_text'] = merged_kubu_03['full_text'].str.replace(r'@(?!\\w*(mahfud)\\w*)\\w+', '', regex=True).str.strip()\n",
    "merged_kubu_03['full_text'] = merged_kubu_03['full_text'].str.replace(r'@\\w*(mahfud)\\w*', 'mahfud md',  regex=True ).str.strip()"
   ]
  },
  {
   "cell_type": "markdown",
   "metadata": {},
   "source": [
    "## Drop Link in Colum Full Text"
   ]
  },
  {
   "cell_type": "code",
   "execution_count": 30,
   "metadata": {},
   "outputs": [],
   "source": [
    "def remove_links(text):\n",
    "    if not isinstance(text, str):\n",
    "        return text\n",
    "    return re.sub(r'https?://\\S+', '', text)"
   ]
  },
  {
   "cell_type": "code",
   "execution_count": 31,
   "metadata": {},
   "outputs": [],
   "source": [
    "merged_kubu_01['full_text'] = merged_kubu_01['full_text'].apply(remove_links)"
   ]
  },
  {
   "cell_type": "code",
   "execution_count": null,
   "metadata": {},
   "outputs": [],
   "source": [
    "# merged_kubu_02['full_text'] = merged_kubu_02['full_text'].apply(remove_links)"
   ]
  },
  {
   "cell_type": "code",
   "execution_count": 32,
   "metadata": {},
   "outputs": [],
   "source": [
    "merged_kubu_03['full_text'] = merged_kubu_03['full_text'].apply(remove_links)"
   ]
  },
  {
   "cell_type": "markdown",
   "metadata": {},
   "source": [
    "## Filter Data"
   ]
  },
  {
   "cell_type": "markdown",
   "metadata": {},
   "source": [
    "### Party 01"
   ]
  },
  {
   "cell_type": "code",
   "execution_count": 33,
   "metadata": {},
   "outputs": [],
   "source": [
    "keyword_pattern = r'\\banies\\b|\\banis\\b|\\b01\\b|\\bcak imin\\b|\\bimin\\b'\n",
    "date_pattern = r'\\b01/\\d{2}/\\d{4}\\b'\n",
    "number_pattern = r'\\d*01\\d*'"
   ]
  },
  {
   "cell_type": "code",
   "execution_count": 34,
   "metadata": {},
   "outputs": [],
   "source": [
    "keyword_mask = merged_kubu_01['full_text'].str.contains(keyword_pattern, case=False, na=False)\n",
    "date_mask = merged_kubu_01['full_text'].str.contains(date_pattern, na=False)\n",
    "number_mask = merged_kubu_01['full_text'].str.contains(number_pattern, na=False)"
   ]
  },
  {
   "cell_type": "code",
   "execution_count": 35,
   "metadata": {},
   "outputs": [],
   "source": [
    "final_mask = keyword_mask | ~(date_mask | number_mask)"
   ]
  },
  {
   "cell_type": "code",
   "execution_count": 36,
   "metadata": {},
   "outputs": [],
   "source": [
    "merged_kubu_01 = merged_kubu_01[final_mask]"
   ]
  },
  {
   "cell_type": "code",
   "execution_count": 37,
   "metadata": {},
   "outputs": [
    {
     "name": "stdout",
     "output_type": "stream",
     "text": [
      "125541\n"
     ]
    }
   ],
   "source": [
    "print(len(merged_kubu_01))"
   ]
  },
  {
   "cell_type": "markdown",
   "metadata": {},
   "source": [
    "### Party 02"
   ]
  },
  {
   "cell_type": "code",
   "execution_count": null,
   "metadata": {},
   "outputs": [],
   "source": [
    "# keyword_pattern = r'\\bprabowo\\b|\\bgibran\\b|\\b02\\b'\n",
    "# date_pattern = r'\\b02/\\d{2}/\\d{4}\\b'\n",
    "# number_pattern = r'\\d*02\\d*'"
   ]
  },
  {
   "cell_type": "code",
   "execution_count": null,
   "metadata": {},
   "outputs": [],
   "source": [
    "# keyword_mask = merged_kubu_02['full_text'].str.contains(keyword_pattern, case=False, na=False)\n",
    "# date_mask = merged_kubu_02['full_text'].str.contains(date_pattern, na=False)\n",
    "# number_mask = merged_kubu_02['full_text'].str.contains(number_pattern, na=False)"
   ]
  },
  {
   "cell_type": "code",
   "execution_count": null,
   "metadata": {},
   "outputs": [],
   "source": [
    "# final_mask = keyword_mask | ~(date_mask | number_mask)"
   ]
  },
  {
   "cell_type": "code",
   "execution_count": null,
   "metadata": {},
   "outputs": [],
   "source": [
    "# merged_kubu_02 = merged_kubu_02[final_mask]"
   ]
  },
  {
   "cell_type": "code",
   "execution_count": null,
   "metadata": {},
   "outputs": [],
   "source": [
    "# print(len(merged_kubu_02))"
   ]
  },
  {
   "cell_type": "markdown",
   "metadata": {},
   "source": [
    "### Party 03"
   ]
  },
  {
   "cell_type": "code",
   "execution_count": 38,
   "metadata": {},
   "outputs": [],
   "source": [
    "keyword_pattern = r'\\bganjar\\b|\\bmahfud\\b|\\b03\\b'\n",
    "date_pattern = r'\\b03/\\d{2}/\\d{4}\\b'\n",
    "number_pattern = r'\\d*03\\d*'"
   ]
  },
  {
   "cell_type": "code",
   "execution_count": 39,
   "metadata": {},
   "outputs": [],
   "source": [
    "keyword_mask = merged_kubu_03['full_text'].str.contains(keyword_pattern, case=False, na=False)\n",
    "date_mask = merged_kubu_03['full_text'].str.contains(date_pattern, na=False)\n",
    "number_mask = merged_kubu_03['full_text'].str.contains(number_pattern, na=False)"
   ]
  },
  {
   "cell_type": "code",
   "execution_count": 40,
   "metadata": {},
   "outputs": [],
   "source": [
    "final_mask = keyword_mask | ~(date_mask | number_mask)"
   ]
  },
  {
   "cell_type": "code",
   "execution_count": 41,
   "metadata": {},
   "outputs": [],
   "source": [
    "merged_kubu_03 = merged_kubu_03[final_mask]"
   ]
  },
  {
   "cell_type": "code",
   "execution_count": 42,
   "metadata": {},
   "outputs": [
    {
     "name": "stdout",
     "output_type": "stream",
     "text": [
      "73051\n"
     ]
    }
   ],
   "source": [
    "print(len(merged_kubu_03))"
   ]
  },
  {
   "cell_type": "markdown",
   "metadata": {},
   "source": [
    "## Replace &amp to &"
   ]
  },
  {
   "cell_type": "code",
   "execution_count": 43,
   "metadata": {},
   "outputs": [],
   "source": [
    "merged_kubu_01['full_text'] = merged_kubu_01['full_text'].str.replace(r'&amp', '&', regex=False)\n",
    "# merged_kubu_02['full_text'] = merged_kubu_02['full_text'].str.replace(r'&amp', '&', regex=False)\n",
    "merged_kubu_03['full_text'] = merged_kubu_03['full_text'].str.replace(r'&amp', '&', regex=False)"
   ]
  },
  {
   "cell_type": "markdown",
   "metadata": {},
   "source": [
    "## Normalization"
   ]
  },
  {
   "cell_type": "code",
   "execution_count": 44,
   "metadata": {},
   "outputs": [],
   "source": [
    "def normalize_comments(text):\n",
    "    # Remove emojis by filtering out any character in emoji.EMOJI_DATA\n",
    "    emojis = [c for c in text if c not in emoji.EMOJI_DATA]\n",
    "\n",
    "    # Buat text menjadi lower case\n",
    "    text = text.lower()\n",
    "    \n",
    "\n",
    "    # Bersihkan teks dari karakter khusus\n",
    "    text = re.sub(r'[^\\w\\s]', ' ', text)\n",
    "\n",
    "    # Bersihkan karakter yang berulang\n",
    "    normal_regex = re.compile(r\"(.)\\1{1,}\") # compiling regex pattern for a repeating character in a word (e.g., haiiii -> 'i' is repeated several times)\n",
    "    text = normal_regex.sub(r\"\\1\\1\", text) # removing the repeating characters \n",
    "    \n",
    "    # Hapus multiple spaces\n",
    "    text = re.sub(r'\\s+', ' ', text).strip()\n",
    "       \n",
    "    return text"
   ]
  },
  {
   "cell_type": "markdown",
   "metadata": {},
   "source": [
    "### Party 01"
   ]
  },
  {
   "cell_type": "code",
   "execution_count": 45,
   "metadata": {},
   "outputs": [
    {
     "data": {
      "text/html": [
       "<div>\n",
       "<style scoped>\n",
       "    .dataframe tbody tr th:only-of-type {\n",
       "        vertical-align: middle;\n",
       "    }\n",
       "\n",
       "    .dataframe tbody tr th {\n",
       "        vertical-align: top;\n",
       "    }\n",
       "\n",
       "    .dataframe thead th {\n",
       "        text-align: right;\n",
       "    }\n",
       "</style>\n",
       "<table border=\"1\" class=\"dataframe\">\n",
       "  <thead>\n",
       "    <tr style=\"text-align: right;\">\n",
       "      <th></th>\n",
       "      <th>created_at</th>\n",
       "      <th>id_str</th>\n",
       "      <th>full_text</th>\n",
       "      <th>lang</th>\n",
       "      <th>location</th>\n",
       "    </tr>\n",
       "  </thead>\n",
       "  <tbody>\n",
       "    <tr>\n",
       "      <th>0</th>\n",
       "      <td>2023-11-01</td>\n",
       "      <td>1719715185009791323</td>\n",
       "      <td>bakal calon presiden anies baswedan menawarkan...</td>\n",
       "      <td>in</td>\n",
       "      <td>NKRI</td>\n",
       "    </tr>\n",
       "    <tr>\n",
       "      <th>241334</th>\n",
       "      <td>2023-11-01</td>\n",
       "      <td>1719683033991966826</td>\n",
       "      <td>anies santri tenan cak imin santri tenanan sem...</td>\n",
       "      <td>in</td>\n",
       "      <td>Papua Barat, Indonesia</td>\n",
       "    </tr>\n",
       "    <tr>\n",
       "      <th>241335</th>\n",
       "      <td>2023-11-01</td>\n",
       "      <td>1719507597274038752</td>\n",
       "      <td>ia dipanggil bay muzayadah rasulullah saw pern...</td>\n",
       "      <td>in</td>\n",
       "      <td>Nilai</td>\n",
       "    </tr>\n",
       "    <tr>\n",
       "      <th>241336</th>\n",
       "      <td>2023-11-01</td>\n",
       "      <td>1719687853624746016</td>\n",
       "      <td>komitmen paslon anies muhaimin amin terhadap p...</td>\n",
       "      <td>in</td>\n",
       "      <td>Depok, Indonesia</td>\n",
       "    </tr>\n",
       "    <tr>\n",
       "      <th>241340</th>\n",
       "      <td>2023-11-01</td>\n",
       "      <td>1719650853089640904</td>\n",
       "      <td>ibu2 yang mengandung kena dengar kisah nusayba...</td>\n",
       "      <td>in</td>\n",
       "      <td>Kuala Lumpur Federal Territory</td>\n",
       "    </tr>\n",
       "  </tbody>\n",
       "</table>\n",
       "</div>"
      ],
      "text/plain": [
       "        created_at               id_str  \\\n",
       "0       2023-11-01  1719715185009791323   \n",
       "241334  2023-11-01  1719683033991966826   \n",
       "241335  2023-11-01  1719507597274038752   \n",
       "241336  2023-11-01  1719687853624746016   \n",
       "241340  2023-11-01  1719650853089640904   \n",
       "\n",
       "                                                full_text lang  \\\n",
       "0       bakal calon presiden anies baswedan menawarkan...   in   \n",
       "241334  anies santri tenan cak imin santri tenanan sem...   in   \n",
       "241335  ia dipanggil bay muzayadah rasulullah saw pern...   in   \n",
       "241336  komitmen paslon anies muhaimin amin terhadap p...   in   \n",
       "241340  ibu2 yang mengandung kena dengar kisah nusayba...   in   \n",
       "\n",
       "                              location  \n",
       "0                                 NKRI  \n",
       "241334          Papua Barat, Indonesia  \n",
       "241335                           Nilai  \n",
       "241336                Depok, Indonesia  \n",
       "241340  Kuala Lumpur Federal Territory  "
      ]
     },
     "execution_count": 45,
     "metadata": {},
     "output_type": "execute_result"
    }
   ],
   "source": [
    "merged_kubu_01['full_text'] = merged_kubu_01['full_text'].apply(normalize_comments)\n",
    "merged_kubu_01.head()"
   ]
  },
  {
   "cell_type": "markdown",
   "metadata": {},
   "source": [
    "### Party 02"
   ]
  },
  {
   "cell_type": "code",
   "execution_count": null,
   "metadata": {},
   "outputs": [],
   "source": [
    "# merged_kubu_02['full_text'] = merged_kubu_02['full_text'].apply(normalize_comments)\n",
    "# merged_kubu_02.head()"
   ]
  },
  {
   "cell_type": "markdown",
   "metadata": {},
   "source": [
    "### Party 03"
   ]
  },
  {
   "cell_type": "code",
   "execution_count": 46,
   "metadata": {},
   "outputs": [
    {
     "data": {
      "text/html": [
       "<div>\n",
       "<style scoped>\n",
       "    .dataframe tbody tr th:only-of-type {\n",
       "        vertical-align: middle;\n",
       "    }\n",
       "\n",
       "    .dataframe tbody tr th {\n",
       "        vertical-align: top;\n",
       "    }\n",
       "\n",
       "    .dataframe thead th {\n",
       "        text-align: right;\n",
       "    }\n",
       "</style>\n",
       "<table border=\"1\" class=\"dataframe\">\n",
       "  <thead>\n",
       "    <tr style=\"text-align: right;\">\n",
       "      <th></th>\n",
       "      <th>created_at</th>\n",
       "      <th>id_str</th>\n",
       "      <th>full_text</th>\n",
       "      <th>lang</th>\n",
       "      <th>location</th>\n",
       "    </tr>\n",
       "  </thead>\n",
       "  <tbody>\n",
       "    <tr>\n",
       "      <th>97410</th>\n",
       "      <td>2023-11-01</td>\n",
       "      <td>1719856742971101218</td>\n",
       "      <td>bantah sri mulyani masuk tpn ganjar mahfud ars...</td>\n",
       "      <td>in</td>\n",
       "      <td>Jakarta</td>\n",
       "    </tr>\n",
       "    <tr>\n",
       "      <th>97404</th>\n",
       "      <td>2023-11-01</td>\n",
       "      <td>1719856879810355514</td>\n",
       "      <td>ganjar beruntung nya bisa duduk satu meja deng...</td>\n",
       "      <td>in</td>\n",
       "      <td>Grogol Petamburan, Indonesia</td>\n",
       "    </tr>\n",
       "    <tr>\n",
       "      <th>97402</th>\n",
       "      <td>2023-11-01</td>\n",
       "      <td>1719856885795549186</td>\n",
       "      <td>ganjar pak ganjar tetep yg terbaik semangat pa...</td>\n",
       "      <td>in</td>\n",
       "      <td>Kembangan, Indonesia</td>\n",
       "    </tr>\n",
       "    <tr>\n",
       "      <th>97400</th>\n",
       "      <td>2023-11-01</td>\n",
       "      <td>1719856929210851776</td>\n",
       "      <td>ganjar rahajeng rawuh di bali pak ganjar semog...</td>\n",
       "      <td>in</td>\n",
       "      <td>Indonesia</td>\n",
       "    </tr>\n",
       "    <tr>\n",
       "      <th>97414</th>\n",
       "      <td>2023-11-01</td>\n",
       "      <td>1719856716500828491</td>\n",
       "      <td>ganjar kapan lagi pemuda bali bisa langsung di...</td>\n",
       "      <td>in</td>\n",
       "      <td>Jakarta Capital Region</td>\n",
       "    </tr>\n",
       "  </tbody>\n",
       "</table>\n",
       "</div>"
      ],
      "text/plain": [
       "       created_at               id_str  \\\n",
       "97410  2023-11-01  1719856742971101218   \n",
       "97404  2023-11-01  1719856879810355514   \n",
       "97402  2023-11-01  1719856885795549186   \n",
       "97400  2023-11-01  1719856929210851776   \n",
       "97414  2023-11-01  1719856716500828491   \n",
       "\n",
       "                                               full_text lang  \\\n",
       "97410  bantah sri mulyani masuk tpn ganjar mahfud ars...   in   \n",
       "97404  ganjar beruntung nya bisa duduk satu meja deng...   in   \n",
       "97402  ganjar pak ganjar tetep yg terbaik semangat pa...   in   \n",
       "97400  ganjar rahajeng rawuh di bali pak ganjar semog...   in   \n",
       "97414  ganjar kapan lagi pemuda bali bisa langsung di...   in   \n",
       "\n",
       "                           location  \n",
       "97410                       Jakarta  \n",
       "97404  Grogol Petamburan, Indonesia  \n",
       "97402          Kembangan, Indonesia  \n",
       "97400                     Indonesia  \n",
       "97414        Jakarta Capital Region  "
      ]
     },
     "execution_count": 46,
     "metadata": {},
     "output_type": "execute_result"
    }
   ],
   "source": [
    "merged_kubu_03['full_text'] = merged_kubu_03['full_text'].apply(normalize_comments)\n",
    "merged_kubu_03.head()"
   ]
  },
  {
   "cell_type": "markdown",
   "metadata": {},
   "source": [
    "## Standarization"
   ]
  },
  {
   "cell_type": "code",
   "execution_count": 47,
   "metadata": {},
   "outputs": [],
   "source": [
    "import json\n",
    "\n",
    "def load_dict_from_json_file(filename):\n",
    "    with open(filename, 'r', encoding='utf-8') as file:\n",
    "        dictionary = json.load(file)\n",
    "    return dictionary"
   ]
  },
  {
   "cell_type": "code",
   "execution_count": 48,
   "metadata": {},
   "outputs": [],
   "source": [
    "my_dict = load_dict_from_json_file('combined_slang_words.txt')"
   ]
  },
  {
   "cell_type": "code",
   "execution_count": 49,
   "metadata": {},
   "outputs": [],
   "source": [
    "def normalize_slang_words(text, slang_words_dict=my_dict):\n",
    "    words = text.split()\n",
    "    standarized_words = []\n",
    "    for word in words:\n",
    "        standarized_word = slang_words_dict.get(word, word) # Mengembalikan kata asli jika kata tidak ditemukan dalam dict \n",
    "        standarized_words.append(standarized_word)\n",
    "    return ' '.join(standarized_words)"
   ]
  },
  {
   "cell_type": "markdown",
   "metadata": {},
   "source": [
    "### Party 01"
   ]
  },
  {
   "cell_type": "code",
   "execution_count": 50,
   "metadata": {},
   "outputs": [
    {
     "data": {
      "text/html": [
       "<div>\n",
       "<style scoped>\n",
       "    .dataframe tbody tr th:only-of-type {\n",
       "        vertical-align: middle;\n",
       "    }\n",
       "\n",
       "    .dataframe tbody tr th {\n",
       "        vertical-align: top;\n",
       "    }\n",
       "\n",
       "    .dataframe thead th {\n",
       "        text-align: right;\n",
       "    }\n",
       "</style>\n",
       "<table border=\"1\" class=\"dataframe\">\n",
       "  <thead>\n",
       "    <tr style=\"text-align: right;\">\n",
       "      <th></th>\n",
       "      <th>created_at</th>\n",
       "      <th>id_str</th>\n",
       "      <th>full_text</th>\n",
       "      <th>lang</th>\n",
       "      <th>location</th>\n",
       "    </tr>\n",
       "  </thead>\n",
       "  <tbody>\n",
       "    <tr>\n",
       "      <th>0</th>\n",
       "      <td>2023-11-01</td>\n",
       "      <td>1719715185009791323</td>\n",
       "      <td>bakal calon presiden anies baswedan menawarkan...</td>\n",
       "      <td>in</td>\n",
       "      <td>NKRI</td>\n",
       "    </tr>\n",
       "    <tr>\n",
       "      <th>241334</th>\n",
       "      <td>2023-11-01</td>\n",
       "      <td>1719683033991966826</td>\n",
       "      <td>anies santri tenan cak imin santri tenanan sem...</td>\n",
       "      <td>in</td>\n",
       "      <td>Papua Barat, Indonesia</td>\n",
       "    </tr>\n",
       "    <tr>\n",
       "      <th>241335</th>\n",
       "      <td>2023-11-01</td>\n",
       "      <td>1719507597274038752</td>\n",
       "      <td>ia dipanggil bay muzayadah rasulullah saw pern...</td>\n",
       "      <td>in</td>\n",
       "      <td>Nilai</td>\n",
       "    </tr>\n",
       "    <tr>\n",
       "      <th>241336</th>\n",
       "      <td>2023-11-01</td>\n",
       "      <td>1719687853624746016</td>\n",
       "      <td>komitmen paslon anies muhaimin amin terhadap p...</td>\n",
       "      <td>in</td>\n",
       "      <td>Depok, Indonesia</td>\n",
       "    </tr>\n",
       "    <tr>\n",
       "      <th>241340</th>\n",
       "      <td>2023-11-01</td>\n",
       "      <td>1719650853089640904</td>\n",
       "      <td>ibu2 yang mengandung kena dengar kisah nusayba...</td>\n",
       "      <td>in</td>\n",
       "      <td>Kuala Lumpur Federal Territory</td>\n",
       "    </tr>\n",
       "  </tbody>\n",
       "</table>\n",
       "</div>"
      ],
      "text/plain": [
       "        created_at               id_str  \\\n",
       "0       2023-11-01  1719715185009791323   \n",
       "241334  2023-11-01  1719683033991966826   \n",
       "241335  2023-11-01  1719507597274038752   \n",
       "241336  2023-11-01  1719687853624746016   \n",
       "241340  2023-11-01  1719650853089640904   \n",
       "\n",
       "                                                full_text lang  \\\n",
       "0       bakal calon presiden anies baswedan menawarkan...   in   \n",
       "241334  anies santri tenan cak imin santri tenanan sem...   in   \n",
       "241335  ia dipanggil bay muzayadah rasulullah saw pern...   in   \n",
       "241336  komitmen paslon anies muhaimin amin terhadap p...   in   \n",
       "241340  ibu2 yang mengandung kena dengar kisah nusayba...   in   \n",
       "\n",
       "                              location  \n",
       "0                                 NKRI  \n",
       "241334          Papua Barat, Indonesia  \n",
       "241335                           Nilai  \n",
       "241336                Depok, Indonesia  \n",
       "241340  Kuala Lumpur Federal Territory  "
      ]
     },
     "execution_count": 50,
     "metadata": {},
     "output_type": "execute_result"
    }
   ],
   "source": [
    "merged_kubu_01['full_text'] = merged_kubu_01['full_text'].apply(normalize_slang_words)\n",
    "merged_kubu_01.head()"
   ]
  },
  {
   "cell_type": "markdown",
   "metadata": {},
   "source": [
    "### Party 02"
   ]
  },
  {
   "cell_type": "code",
   "execution_count": null,
   "metadata": {},
   "outputs": [],
   "source": [
    "# merged_kubu_02['full_text'] = merged_kubu_02['full_text'].apply(normalize_slang_words)\n",
    "# merged_kubu_02.head()"
   ]
  },
  {
   "cell_type": "markdown",
   "metadata": {},
   "source": [
    "### Party 03"
   ]
  },
  {
   "cell_type": "code",
   "execution_count": 51,
   "metadata": {},
   "outputs": [
    {
     "data": {
      "text/html": [
       "<div>\n",
       "<style scoped>\n",
       "    .dataframe tbody tr th:only-of-type {\n",
       "        vertical-align: middle;\n",
       "    }\n",
       "\n",
       "    .dataframe tbody tr th {\n",
       "        vertical-align: top;\n",
       "    }\n",
       "\n",
       "    .dataframe thead th {\n",
       "        text-align: right;\n",
       "    }\n",
       "</style>\n",
       "<table border=\"1\" class=\"dataframe\">\n",
       "  <thead>\n",
       "    <tr style=\"text-align: right;\">\n",
       "      <th></th>\n",
       "      <th>created_at</th>\n",
       "      <th>id_str</th>\n",
       "      <th>full_text</th>\n",
       "      <th>lang</th>\n",
       "      <th>location</th>\n",
       "    </tr>\n",
       "  </thead>\n",
       "  <tbody>\n",
       "    <tr>\n",
       "      <th>97410</th>\n",
       "      <td>2023-11-01</td>\n",
       "      <td>1719856742971101218</td>\n",
       "      <td>bantah sri mulyani masuk tpn ganjar mahfud ars...</td>\n",
       "      <td>in</td>\n",
       "      <td>Jakarta</td>\n",
       "    </tr>\n",
       "    <tr>\n",
       "      <th>97404</th>\n",
       "      <td>2023-11-01</td>\n",
       "      <td>1719856879810355514</td>\n",
       "      <td>ganjar beruntung nya bisa duduk satu meja deng...</td>\n",
       "      <td>in</td>\n",
       "      <td>Grogol Petamburan, Indonesia</td>\n",
       "    </tr>\n",
       "    <tr>\n",
       "      <th>97402</th>\n",
       "      <td>2023-11-01</td>\n",
       "      <td>1719856885795549186</td>\n",
       "      <td>ganjar pak ganjar tetep yang terbaik semangat ...</td>\n",
       "      <td>in</td>\n",
       "      <td>Kembangan, Indonesia</td>\n",
       "    </tr>\n",
       "    <tr>\n",
       "      <th>97400</th>\n",
       "      <td>2023-11-01</td>\n",
       "      <td>1719856929210851776</td>\n",
       "      <td>ganjar rahajeng rawuh di bali pak ganjar semog...</td>\n",
       "      <td>in</td>\n",
       "      <td>Indonesia</td>\n",
       "    </tr>\n",
       "    <tr>\n",
       "      <th>97414</th>\n",
       "      <td>2023-11-01</td>\n",
       "      <td>1719856716500828491</td>\n",
       "      <td>ganjar kapan lagi pemuda bali bisa langsung di...</td>\n",
       "      <td>in</td>\n",
       "      <td>Jakarta Capital Region</td>\n",
       "    </tr>\n",
       "  </tbody>\n",
       "</table>\n",
       "</div>"
      ],
      "text/plain": [
       "       created_at               id_str  \\\n",
       "97410  2023-11-01  1719856742971101218   \n",
       "97404  2023-11-01  1719856879810355514   \n",
       "97402  2023-11-01  1719856885795549186   \n",
       "97400  2023-11-01  1719856929210851776   \n",
       "97414  2023-11-01  1719856716500828491   \n",
       "\n",
       "                                               full_text lang  \\\n",
       "97410  bantah sri mulyani masuk tpn ganjar mahfud ars...   in   \n",
       "97404  ganjar beruntung nya bisa duduk satu meja deng...   in   \n",
       "97402  ganjar pak ganjar tetep yang terbaik semangat ...   in   \n",
       "97400  ganjar rahajeng rawuh di bali pak ganjar semog...   in   \n",
       "97414  ganjar kapan lagi pemuda bali bisa langsung di...   in   \n",
       "\n",
       "                           location  \n",
       "97410                       Jakarta  \n",
       "97404  Grogol Petamburan, Indonesia  \n",
       "97402          Kembangan, Indonesia  \n",
       "97400                     Indonesia  \n",
       "97414        Jakarta Capital Region  "
      ]
     },
     "execution_count": 51,
     "metadata": {},
     "output_type": "execute_result"
    }
   ],
   "source": [
    "merged_kubu_03['full_text'] = merged_kubu_03['full_text'].apply(normalize_slang_words)\n",
    "merged_kubu_03.head()"
   ]
  },
  {
   "cell_type": "code",
   "execution_count": 52,
   "metadata": {},
   "outputs": [],
   "source": [
    "slangwords_collection = pd.read_csv('new_kamusalay.csv', header=None, encoding='latin-1')\n",
    "replacements = dict(zip(slangwords_collection[0], slangwords_collection[1])) "
   ]
  },
  {
   "cell_type": "markdown",
   "metadata": {},
   "source": [
    "### Party 01"
   ]
  },
  {
   "cell_type": "code",
   "execution_count": 53,
   "metadata": {},
   "outputs": [
    {
     "data": {
      "text/html": [
       "<div>\n",
       "<style scoped>\n",
       "    .dataframe tbody tr th:only-of-type {\n",
       "        vertical-align: middle;\n",
       "    }\n",
       "\n",
       "    .dataframe tbody tr th {\n",
       "        vertical-align: top;\n",
       "    }\n",
       "\n",
       "    .dataframe thead th {\n",
       "        text-align: right;\n",
       "    }\n",
       "</style>\n",
       "<table border=\"1\" class=\"dataframe\">\n",
       "  <thead>\n",
       "    <tr style=\"text-align: right;\">\n",
       "      <th></th>\n",
       "      <th>created_at</th>\n",
       "      <th>id_str</th>\n",
       "      <th>full_text</th>\n",
       "      <th>lang</th>\n",
       "      <th>location</th>\n",
       "    </tr>\n",
       "  </thead>\n",
       "  <tbody>\n",
       "    <tr>\n",
       "      <th>0</th>\n",
       "      <td>2023-11-01</td>\n",
       "      <td>1719715185009791323</td>\n",
       "      <td>bakal calon presiden anies baswedan menawarkan...</td>\n",
       "      <td>in</td>\n",
       "      <td>NKRI</td>\n",
       "    </tr>\n",
       "    <tr>\n",
       "      <th>241334</th>\n",
       "      <td>2023-11-01</td>\n",
       "      <td>1719683033991966826</td>\n",
       "      <td>anies santri benaran cak imin santri tenanan s...</td>\n",
       "      <td>in</td>\n",
       "      <td>Papua Barat, Indonesia</td>\n",
       "    </tr>\n",
       "    <tr>\n",
       "      <th>241335</th>\n",
       "      <td>2023-11-01</td>\n",
       "      <td>1719507597274038752</td>\n",
       "      <td>ia dipanggil selamat tinggal muzayadah rasulul...</td>\n",
       "      <td>in</td>\n",
       "      <td>Nilai</td>\n",
       "    </tr>\n",
       "    <tr>\n",
       "      <th>241336</th>\n",
       "      <td>2023-11-01</td>\n",
       "      <td>1719687853624746016</td>\n",
       "      <td>komitmen pasangan calon anies muhaimin amin te...</td>\n",
       "      <td>in</td>\n",
       "      <td>Depok, Indonesia</td>\n",
       "    </tr>\n",
       "    <tr>\n",
       "      <th>241340</th>\n",
       "      <td>2023-11-01</td>\n",
       "      <td>1719650853089640904</td>\n",
       "      <td>ibu ibu yang mengandung kena dengar kisah nusa...</td>\n",
       "      <td>in</td>\n",
       "      <td>Kuala Lumpur Federal Territory</td>\n",
       "    </tr>\n",
       "  </tbody>\n",
       "</table>\n",
       "</div>"
      ],
      "text/plain": [
       "        created_at               id_str  \\\n",
       "0       2023-11-01  1719715185009791323   \n",
       "241334  2023-11-01  1719683033991966826   \n",
       "241335  2023-11-01  1719507597274038752   \n",
       "241336  2023-11-01  1719687853624746016   \n",
       "241340  2023-11-01  1719650853089640904   \n",
       "\n",
       "                                                full_text lang  \\\n",
       "0       bakal calon presiden anies baswedan menawarkan...   in   \n",
       "241334  anies santri benaran cak imin santri tenanan s...   in   \n",
       "241335  ia dipanggil selamat tinggal muzayadah rasulul...   in   \n",
       "241336  komitmen pasangan calon anies muhaimin amin te...   in   \n",
       "241340  ibu ibu yang mengandung kena dengar kisah nusa...   in   \n",
       "\n",
       "                              location  \n",
       "0                                 NKRI  \n",
       "241334          Papua Barat, Indonesia  \n",
       "241335                           Nilai  \n",
       "241336                Depok, Indonesia  \n",
       "241340  Kuala Lumpur Federal Territory  "
      ]
     },
     "execution_count": 53,
     "metadata": {},
     "output_type": "execute_result"
    }
   ],
   "source": [
    "merged_kubu_01['full_text'] = merged_kubu_01['full_text'].apply(\n",
    "    lambda text: normalize_slang_words(text, replacements))\n",
    "merged_kubu_01.head()"
   ]
  },
  {
   "cell_type": "markdown",
   "metadata": {},
   "source": [
    "### Party 02"
   ]
  },
  {
   "cell_type": "code",
   "execution_count": null,
   "metadata": {},
   "outputs": [],
   "source": [
    "# merged_kubu_02['full_text'] = merged_kubu_02['full_text'].apply(\n",
    "#     lambda text: normalize_slang_words(text, replacements))\n",
    "# merged_kubu_02.head()"
   ]
  },
  {
   "cell_type": "markdown",
   "metadata": {},
   "source": [
    "### Party 03"
   ]
  },
  {
   "cell_type": "code",
   "execution_count": 54,
   "metadata": {},
   "outputs": [
    {
     "data": {
      "text/html": [
       "<div>\n",
       "<style scoped>\n",
       "    .dataframe tbody tr th:only-of-type {\n",
       "        vertical-align: middle;\n",
       "    }\n",
       "\n",
       "    .dataframe tbody tr th {\n",
       "        vertical-align: top;\n",
       "    }\n",
       "\n",
       "    .dataframe thead th {\n",
       "        text-align: right;\n",
       "    }\n",
       "</style>\n",
       "<table border=\"1\" class=\"dataframe\">\n",
       "  <thead>\n",
       "    <tr style=\"text-align: right;\">\n",
       "      <th></th>\n",
       "      <th>created_at</th>\n",
       "      <th>id_str</th>\n",
       "      <th>full_text</th>\n",
       "      <th>lang</th>\n",
       "      <th>location</th>\n",
       "    </tr>\n",
       "  </thead>\n",
       "  <tbody>\n",
       "    <tr>\n",
       "      <th>97410</th>\n",
       "      <td>2023-11-01</td>\n",
       "      <td>1719856742971101218</td>\n",
       "      <td>bantah sri mulyani masuk tpn ganjar mahfud ars...</td>\n",
       "      <td>in</td>\n",
       "      <td>Jakarta</td>\n",
       "    </tr>\n",
       "    <tr>\n",
       "      <th>97404</th>\n",
       "      <td>2023-11-01</td>\n",
       "      <td>1719856879810355514</td>\n",
       "      <td>ganjar beruntung nya bisa duduk satu meja deng...</td>\n",
       "      <td>in</td>\n",
       "      <td>Grogol Petamburan, Indonesia</td>\n",
       "    </tr>\n",
       "    <tr>\n",
       "      <th>97402</th>\n",
       "      <td>2023-11-01</td>\n",
       "      <td>1719856885795549186</td>\n",
       "      <td>ganjar pak ganjar tetap yang terbaik semangat ...</td>\n",
       "      <td>in</td>\n",
       "      <td>Kembangan, Indonesia</td>\n",
       "    </tr>\n",
       "    <tr>\n",
       "      <th>97400</th>\n",
       "      <td>2023-11-01</td>\n",
       "      <td>1719856929210851776</td>\n",
       "      <td>ganjar rahajeng rawuh di bali pak ganjar semog...</td>\n",
       "      <td>in</td>\n",
       "      <td>Indonesia</td>\n",
       "    </tr>\n",
       "    <tr>\n",
       "      <th>97414</th>\n",
       "      <td>2023-11-01</td>\n",
       "      <td>1719856716500828491</td>\n",
       "      <td>ganjar kapan lagi pemuda bali bisa langsung di...</td>\n",
       "      <td>in</td>\n",
       "      <td>Jakarta Capital Region</td>\n",
       "    </tr>\n",
       "  </tbody>\n",
       "</table>\n",
       "</div>"
      ],
      "text/plain": [
       "       created_at               id_str  \\\n",
       "97410  2023-11-01  1719856742971101218   \n",
       "97404  2023-11-01  1719856879810355514   \n",
       "97402  2023-11-01  1719856885795549186   \n",
       "97400  2023-11-01  1719856929210851776   \n",
       "97414  2023-11-01  1719856716500828491   \n",
       "\n",
       "                                               full_text lang  \\\n",
       "97410  bantah sri mulyani masuk tpn ganjar mahfud ars...   in   \n",
       "97404  ganjar beruntung nya bisa duduk satu meja deng...   in   \n",
       "97402  ganjar pak ganjar tetap yang terbaik semangat ...   in   \n",
       "97400  ganjar rahajeng rawuh di bali pak ganjar semog...   in   \n",
       "97414  ganjar kapan lagi pemuda bali bisa langsung di...   in   \n",
       "\n",
       "                           location  \n",
       "97410                       Jakarta  \n",
       "97404  Grogol Petamburan, Indonesia  \n",
       "97402          Kembangan, Indonesia  \n",
       "97400                     Indonesia  \n",
       "97414        Jakarta Capital Region  "
      ]
     },
     "execution_count": 54,
     "metadata": {},
     "output_type": "execute_result"
    }
   ],
   "source": [
    "merged_kubu_03['full_text'] = merged_kubu_03['full_text'].apply(\n",
    "    lambda text: normalize_slang_words(text, replacements))\n",
    "merged_kubu_03.head()"
   ]
  },
  {
   "cell_type": "markdown",
   "metadata": {},
   "source": [
    "## Removing Stop Words"
   ]
  },
  {
   "cell_type": "code",
   "execution_count": 55,
   "metadata": {},
   "outputs": [],
   "source": [
    "def remove_whitespace(text):\n",
    "    if not isinstance(text, str):\n",
    "        return text  \n",
    "    \n",
    "    return ' '.join(text.split())"
   ]
  },
  {
   "cell_type": "code",
   "execution_count": 56,
   "metadata": {},
   "outputs": [],
   "source": [
    "def remove_stopwords(text):\n",
    "    if not isinstance(text, str):\n",
    "        return text  \n",
    "    text = remove_whitespace(text)\n",
    "    stop_words = set(stopwords.words('indonesian')) \n",
    "    stop_words.update([])\n",
    "    tokens = nltk.word_tokenize(text)\n",
    "    filtered_tokens = [word for word in tokens if word.lower() not in stop_words]\n",
    "    return ' '.join(filtered_tokens)"
   ]
  },
  {
   "cell_type": "code",
   "execution_count": 57,
   "metadata": {},
   "outputs": [],
   "source": [
    "merged_kubu_01['full_text'] = merged_kubu_01['full_text'].apply(remove_stopwords)\n",
    "# merged_kubu_02['full_text'] = merged_kubu_02['full_text'].apply(remove_stopwords)\n",
    "merged_kubu_03['full_text'] = merged_kubu_03['full_text'].apply(remove_stopwords)"
   ]
  },
  {
   "cell_type": "markdown",
   "metadata": {},
   "source": [
    "## Save Processed CSV for Labeling"
   ]
  },
  {
   "cell_type": "code",
   "execution_count": 58,
   "metadata": {},
   "outputs": [],
   "source": [
    "merged_kubu_01.to_csv('processed_merged_kubu_01.csv',index=False)\n",
    "# merged_kubu_02.to_csv('processed_merged_kubu_02.csv',index=False, encoding='utf-8-sig')\n",
    "merged_kubu_03.to_csv('processed_merged_kubu_03.csv',index=False)"
   ]
  },
  {
   "cell_type": "markdown",
   "metadata": {},
   "source": [
    "## Stemming Data"
   ]
  },
  {
   "cell_type": "code",
   "execution_count": 59,
   "metadata": {},
   "outputs": [],
   "source": [
    "factory = StemmerFactory()\n",
    "stemmer = factory.create_stemmer()"
   ]
  },
  {
   "cell_type": "code",
   "execution_count": 60,
   "metadata": {},
   "outputs": [],
   "source": [
    "def stemming(text):\n",
    "    if not isinstance(text, str):\n",
    "        return text  \n",
    "    \n",
    "    token = nltk.word_tokenize(text)\n",
    "    stem_kalimat = []\n",
    "    for k in token:\n",
    "        stem_kata = stemmer.stem(k)\n",
    "        stem_kalimat.append(stem_kata)\n",
    "\n",
    "    stem_kalimat_str = ' '.join(stem_kalimat)\n",
    "    return stem_kalimat_str"
   ]
  },
  {
   "cell_type": "code",
   "execution_count": 61,
   "metadata": {},
   "outputs": [],
   "source": [
    "from tqdm import tqdm\n",
    "tqdm.pandas()"
   ]
  },
  {
   "cell_type": "markdown",
   "metadata": {},
   "source": [
    "### Party 01"
   ]
  },
  {
   "cell_type": "code",
   "execution_count": 62,
   "metadata": {},
   "outputs": [
    {
     "name": "stderr",
     "output_type": "stream",
     "text": [
      "100%|██████████| 125541/125541 [2:28:03<00:00, 14.13it/s]  \n"
     ]
    }
   ],
   "source": [
    "merged_kubu_01['full_text'] = merged_kubu_01['full_text'].progress_apply(stemming)"
   ]
  },
  {
   "cell_type": "code",
   "execution_count": 64,
   "metadata": {},
   "outputs": [
    {
     "data": {
      "text/html": [
       "<div>\n",
       "<style scoped>\n",
       "    .dataframe tbody tr th:only-of-type {\n",
       "        vertical-align: middle;\n",
       "    }\n",
       "\n",
       "    .dataframe tbody tr th {\n",
       "        vertical-align: top;\n",
       "    }\n",
       "\n",
       "    .dataframe thead th {\n",
       "        text-align: right;\n",
       "    }\n",
       "</style>\n",
       "<table border=\"1\" class=\"dataframe\">\n",
       "  <thead>\n",
       "    <tr style=\"text-align: right;\">\n",
       "      <th></th>\n",
       "      <th>created_at</th>\n",
       "      <th>id_str</th>\n",
       "      <th>full_text</th>\n",
       "      <th>lang</th>\n",
       "      <th>location</th>\n",
       "    </tr>\n",
       "  </thead>\n",
       "  <tbody>\n",
       "    <tr>\n",
       "      <th>0</th>\n",
       "      <td>2023-11-01</td>\n",
       "      <td>1719715185009791323</td>\n",
       "      <td>calon presiden anies baswedan tawar program ke...</td>\n",
       "      <td>in</td>\n",
       "      <td>NKRI</td>\n",
       "    </tr>\n",
       "    <tr>\n",
       "      <th>241334</th>\n",
       "      <td>2023-11-01</td>\n",
       "      <td>1719683033991966826</td>\n",
       "      <td>anies santri benar cak imin santri tenanan mog...</td>\n",
       "      <td>in</td>\n",
       "      <td>Papua Barat, Indonesia</td>\n",
       "    </tr>\n",
       "    <tr>\n",
       "      <th>241335</th>\n",
       "      <td>2023-11-01</td>\n",
       "      <td>1719507597274038752</td>\n",
       "      <td>panggil selamat tinggal muzayadah rasulullah s...</td>\n",
       "      <td>in</td>\n",
       "      <td>Nilai</td>\n",
       "    </tr>\n",
       "    <tr>\n",
       "      <th>241336</th>\n",
       "      <td>2023-11-01</td>\n",
       "      <td>1719687853624746016</td>\n",
       "      <td>komitmen pasang calon anies muhaimin amin pesa...</td>\n",
       "      <td>in</td>\n",
       "      <td>Depok, Indonesia</td>\n",
       "    </tr>\n",
       "    <tr>\n",
       "      <th>241340</th>\n",
       "      <td>2023-11-01</td>\n",
       "      <td>1719650853089640904</td>\n",
       "      <td>kandung kena dengar kisah nusaybah binti kaab ...</td>\n",
       "      <td>in</td>\n",
       "      <td>Kuala Lumpur Federal Territory</td>\n",
       "    </tr>\n",
       "  </tbody>\n",
       "</table>\n",
       "</div>"
      ],
      "text/plain": [
       "        created_at               id_str  \\\n",
       "0       2023-11-01  1719715185009791323   \n",
       "241334  2023-11-01  1719683033991966826   \n",
       "241335  2023-11-01  1719507597274038752   \n",
       "241336  2023-11-01  1719687853624746016   \n",
       "241340  2023-11-01  1719650853089640904   \n",
       "\n",
       "                                                full_text lang  \\\n",
       "0       calon presiden anies baswedan tawar program ke...   in   \n",
       "241334  anies santri benar cak imin santri tenanan mog...   in   \n",
       "241335  panggil selamat tinggal muzayadah rasulullah s...   in   \n",
       "241336  komitmen pasang calon anies muhaimin amin pesa...   in   \n",
       "241340  kandung kena dengar kisah nusaybah binti kaab ...   in   \n",
       "\n",
       "                              location  \n",
       "0                                 NKRI  \n",
       "241334          Papua Barat, Indonesia  \n",
       "241335                           Nilai  \n",
       "241336                Depok, Indonesia  \n",
       "241340  Kuala Lumpur Federal Territory  "
      ]
     },
     "execution_count": 64,
     "metadata": {},
     "output_type": "execute_result"
    }
   ],
   "source": [
    "merged_kubu_01.head()"
   ]
  },
  {
   "cell_type": "markdown",
   "metadata": {},
   "source": [
    "### Party 02"
   ]
  },
  {
   "cell_type": "code",
   "execution_count": null,
   "metadata": {},
   "outputs": [],
   "source": [
    "# merged_kubu_02['full_text'] = merged_kubu_02['full_text'].progress_apply(stemming)"
   ]
  },
  {
   "cell_type": "code",
   "execution_count": null,
   "metadata": {},
   "outputs": [],
   "source": [
    "# merged_kubu_02.head()"
   ]
  },
  {
   "cell_type": "markdown",
   "metadata": {},
   "source": [
    "### Party 03"
   ]
  },
  {
   "cell_type": "code",
   "execution_count": 65,
   "metadata": {},
   "outputs": [
    {
     "name": "stderr",
     "output_type": "stream",
     "text": [
      "100%|██████████| 73051/73051 [36:22<00:00, 33.47it/s]  \n"
     ]
    }
   ],
   "source": [
    "merged_kubu_03['full_text'] = merged_kubu_03['full_text'].progress_apply(stemming)"
   ]
  },
  {
   "cell_type": "code",
   "execution_count": 66,
   "metadata": {},
   "outputs": [
    {
     "data": {
      "text/html": [
       "<div>\n",
       "<style scoped>\n",
       "    .dataframe tbody tr th:only-of-type {\n",
       "        vertical-align: middle;\n",
       "    }\n",
       "\n",
       "    .dataframe tbody tr th {\n",
       "        vertical-align: top;\n",
       "    }\n",
       "\n",
       "    .dataframe thead th {\n",
       "        text-align: right;\n",
       "    }\n",
       "</style>\n",
       "<table border=\"1\" class=\"dataframe\">\n",
       "  <thead>\n",
       "    <tr style=\"text-align: right;\">\n",
       "      <th></th>\n",
       "      <th>created_at</th>\n",
       "      <th>id_str</th>\n",
       "      <th>full_text</th>\n",
       "      <th>lang</th>\n",
       "      <th>location</th>\n",
       "    </tr>\n",
       "  </thead>\n",
       "  <tbody>\n",
       "    <tr>\n",
       "      <th>97410</th>\n",
       "      <td>2023-11-01</td>\n",
       "      <td>1719856742971101218</td>\n",
       "      <td>bantah sri mulyani masuk tpn ganjar mahfud ars...</td>\n",
       "      <td>in</td>\n",
       "      <td>Jakarta</td>\n",
       "    </tr>\n",
       "    <tr>\n",
       "      <th>97404</th>\n",
       "      <td>2023-11-01</td>\n",
       "      <td>1719856879810355514</td>\n",
       "      <td>ganjar untung nya duduk meja ganjar iya</td>\n",
       "      <td>in</td>\n",
       "      <td>Grogol Petamburan, Indonesia</td>\n",
       "    </tr>\n",
       "    <tr>\n",
       "      <th>97402</th>\n",
       "      <td>2023-11-01</td>\n",
       "      <td>1719856885795549186</td>\n",
       "      <td>ganjar ganjar baik semangat bagi ilmu</td>\n",
       "      <td>in</td>\n",
       "      <td>Kembangan, Indonesia</td>\n",
       "    </tr>\n",
       "    <tr>\n",
       "      <th>97400</th>\n",
       "      <td>2023-11-01</td>\n",
       "      <td>1719856929210851776</td>\n",
       "      <td>ganjar rahajeng rawuh bal ganjar moga mudah la...</td>\n",
       "      <td>in</td>\n",
       "      <td>Indonesia</td>\n",
       "    </tr>\n",
       "    <tr>\n",
       "      <th>97414</th>\n",
       "      <td>2023-11-01</td>\n",
       "      <td>1719856716500828491</td>\n",
       "      <td>ganjar pemuda bal langsung diskusi ganjar insp...</td>\n",
       "      <td>in</td>\n",
       "      <td>Jakarta Capital Region</td>\n",
       "    </tr>\n",
       "  </tbody>\n",
       "</table>\n",
       "</div>"
      ],
      "text/plain": [
       "       created_at               id_str  \\\n",
       "97410  2023-11-01  1719856742971101218   \n",
       "97404  2023-11-01  1719856879810355514   \n",
       "97402  2023-11-01  1719856885795549186   \n",
       "97400  2023-11-01  1719856929210851776   \n",
       "97414  2023-11-01  1719856716500828491   \n",
       "\n",
       "                                               full_text lang  \\\n",
       "97410  bantah sri mulyani masuk tpn ganjar mahfud ars...   in   \n",
       "97404            ganjar untung nya duduk meja ganjar iya   in   \n",
       "97402              ganjar ganjar baik semangat bagi ilmu   in   \n",
       "97400  ganjar rahajeng rawuh bal ganjar moga mudah la...   in   \n",
       "97414  ganjar pemuda bal langsung diskusi ganjar insp...   in   \n",
       "\n",
       "                           location  \n",
       "97410                       Jakarta  \n",
       "97404  Grogol Petamburan, Indonesia  \n",
       "97402          Kembangan, Indonesia  \n",
       "97400                     Indonesia  \n",
       "97414        Jakarta Capital Region  "
      ]
     },
     "execution_count": 66,
     "metadata": {},
     "output_type": "execute_result"
    }
   ],
   "source": [
    "merged_kubu_03.head()"
   ]
  },
  {
   "cell_type": "code",
   "execution_count": 67,
   "metadata": {},
   "outputs": [],
   "source": [
    "merged_kubu_01.to_csv('stemmed_merged_kubu_01.csv', index=False)\n",
    "# merged_kubu_02.to_csv('stemmed_merged_kubu_02.csv', index=False)\n",
    "merged_kubu_03.to_csv('stemmed_merged_kubu_03.csv', index=False)"
   ]
  },
  {
   "cell_type": "markdown",
   "metadata": {},
   "source": [
    "## EDA"
   ]
  },
  {
   "cell_type": "code",
   "execution_count": null,
   "metadata": {},
   "outputs": [],
   "source": [
    "from wordcloud import WordCloud"
   ]
  },
  {
   "cell_type": "markdown",
   "metadata": {},
   "source": [
    "### Party 01"
   ]
  },
  {
   "cell_type": "code",
   "execution_count": null,
   "metadata": {},
   "outputs": [],
   "source": [
    "merged_kubu_01.dropna(subset=['full_text'], inplace=True)\n",
    "token_data = [row.split() for row in merged_kubu_01['full_text']]\n",
    "all_words_no_stopwords = ' '.join([' '.join(tokens) for tokens in token_data])"
   ]
  },
  {
   "cell_type": "code",
   "execution_count": null,
   "metadata": {},
   "outputs": [],
   "source": [
    "wordcloud = WordCloud(width=800, height=400, background_color='white').generate(all_words_no_stopwords)\n",
    "plt.figure(figsize=(10, 5))\n",
    "plt.imshow(wordcloud, interpolation='bilinear')\n",
    "plt.axis('off')  # Hilangkan axis\n",
    "plt.show()"
   ]
  },
  {
   "cell_type": "code",
   "execution_count": null,
   "metadata": {},
   "outputs": [],
   "source": [
    "from collections import Counter\n",
    "\n",
    "# Pecah string panjang menjadi list of words (tokenisasi)\n",
    "token_list = all_words_no_stopwords.split()\n",
    "\n",
    "# Hitung frekuensi kata menggunakan Counter\n",
    "word_counts = Counter(token_list)\n",
    "\n",
    "# Ambil 20 kata yang paling sering muncul\n",
    "most_common_words = word_counts.most_common(20)\n",
    "\n",
    "# Pisahkan kata dan frekuensinya untuk plotting\n",
    "words, frequencies = zip(*most_common_words)\n",
    "\n",
    "# Plot Bar Chart untuk kata-kata paling sering\n",
    "plt.figure(figsize=(10, 6))\n",
    "bars = plt.barh(words, frequencies, color='lightgreen')\n",
    "\n",
    "# Menambahkan label frekuensi di dalam batang\n",
    "for bar, frequency in zip(bars, frequencies):\n",
    "    plt.text(bar.get_width() - 100,  # Mengatur agar teks berada sedikit di dalam batang\n",
    "             bar.get_y() + bar.get_height() / 2,  # Posisi vertikal\n",
    "             f'{frequency}',  # Nilai frekuensi yang akan ditampilkan\n",
    "             va='center', ha='right', color='black', fontsize=10)  # Posisi dan gaya teks\n",
    "\n",
    "# Label sumbu\n",
    "plt.xlabel('Frekuensi')\n",
    "plt.ylabel('Kata')\n",
    "plt.title('Top 20 Kata Terbanyak')\n",
    "\n",
    "# Membalik sumbu y agar kata dengan frekuensi tertinggi di atas\n",
    "plt.gca().invert_yaxis()\n",
    "\n",
    "# Tampilkan plot\n",
    "plt.show()"
   ]
  },
  {
   "cell_type": "code",
   "execution_count": null,
   "metadata": {},
   "outputs": [],
   "source": [
    "import seaborn as sns\n",
    "\n",
    "merged_kubu_01['created_at'] = pd.to_datetime(merged_kubu_01['created_at'])\n",
    "tweets_per_day = merged_kubu_01.groupby(merged_kubu_01['created_at'].dt.date).size()\n",
    "tweets_per_month = merged_kubu_01.groupby(merged_kubu_01['created_at'].dt.to_period('M')).size()\n",
    "\n",
    "fig, axes = plt.subplots(2, 1, figsize=(12, 20))\n",
    "\n",
    "# Per Day\n",
    "sns.lineplot(ax=axes[0], x=tweets_per_day.index, y=tweets_per_day.values, marker='o', linewidth=2)\n",
    "axes[0].set_title('Number of Tweets Per Day', fontsize=14)\n",
    "axes[0].set_xlabel('Date', fontsize=12)\n",
    "axes[0].set_ylabel('Number of Tweets', fontsize=12)\n",
    "axes[0].tick_params(axis='x', rotation=45)\n",
    "axes[0].grid(True)\n",
    "\n",
    "# Per Month\n",
    "sns.barplot(ax=axes[1], x=tweets_per_month.index.astype(str), y=tweets_per_month.values, palette=\"Blues_r\")\n",
    "axes[1].set_title('Number of Tweets Per Month', fontsize=14)\n",
    "axes[1].set_xlabel('Month', fontsize=12)\n",
    "axes[1].set_ylabel('Number of Tweets', fontsize=12)\n",
    "axes[1].tick_params(axis='x', rotation=45)\n",
    "axes[1].grid(axis='y')"
   ]
  },
  {
   "cell_type": "markdown",
   "metadata": {},
   "source": [
    "### Party 02"
   ]
  },
  {
   "cell_type": "code",
   "execution_count": null,
   "metadata": {},
   "outputs": [],
   "source": [
    "# merged_kubu_02.dropna(subset=['full_text'], inplace=True)\n",
    "# token_data = [row.split() for row in merged_kubu_02['full_text']]\n",
    "# all_words_no_stopwords = ' '.join([' '.join(tokens) for tokens in token_data])"
   ]
  },
  {
   "cell_type": "code",
   "execution_count": null,
   "metadata": {},
   "outputs": [],
   "source": [
    "# wordcloud = WordCloud(width=800, height=400, background_color='white').generate(all_words_no_stopwords)\n",
    "# plt.figure(figsize=(10, 5))\n",
    "# plt.imshow(wordcloud, interpolation='bilinear')\n",
    "# plt.axis('off')  # Hilangkan axis\n",
    "# plt.show()"
   ]
  },
  {
   "cell_type": "code",
   "execution_count": null,
   "metadata": {},
   "outputs": [],
   "source": [
    "# # Pecah string panjang menjadi list of words (tokenisasi)\n",
    "# token_list = all_words_no_stopwords.split()\n",
    "\n",
    "# # Hitung frekuensi kata menggunakan Counter\n",
    "# word_counts = Counter(token_list)\n",
    "\n",
    "# # Ambil 20 kata yang paling sering muncul\n",
    "# most_common_words = word_counts.most_common(20)\n",
    "\n",
    "# # Pisahkan kata dan frekuensinya untuk plotting\n",
    "# words, frequencies = zip(*most_common_words)\n",
    "\n",
    "# # Plot Bar Chart untuk kata-kata paling sering\n",
    "# plt.figure(figsize=(10, 6))\n",
    "# bars = plt.barh(words, frequencies, color='lightgreen')\n",
    "\n",
    "# # Menambahkan label frekuensi di dalam batang\n",
    "# for bar, frequency in zip(bars, frequencies):\n",
    "#     plt.text(bar.get_width() - 100,  # Mengatur agar teks berada sedikit di dalam batang\n",
    "#              bar.get_y() + bar.get_height() / 2,  # Posisi vertikal\n",
    "#              f'{frequency}',  # Nilai frekuensi yang akan ditampilkan\n",
    "#              va='center', ha='right', color='black', fontsize=10)  # Posisi dan gaya teks\n",
    "\n",
    "# # Label sumbu\n",
    "# plt.xlabel('Frekuensi')\n",
    "# plt.ylabel('Kata')\n",
    "# plt.title('Top 20 Kata Terbanyak')\n",
    "\n",
    "# # Membalik sumbu y agar kata dengan frekuensi tertinggi di atas\n",
    "# plt.gca().invert_yaxis()\n",
    "\n",
    "# # Tampilkan plot\n",
    "# plt.show()"
   ]
  },
  {
   "cell_type": "code",
   "execution_count": null,
   "metadata": {},
   "outputs": [],
   "source": [
    "# merged_kubu_02['created_at'] = pd.to_datetime(merged_kubu_02['created_at'])\n",
    "# tweets_per_day = merged_kubu_02.groupby(merged_kubu_02['created_at'].dt.date).size()\n",
    "# tweets_per_month = merged_kubu_02.groupby(merged_kubu_02['created_at'].dt.to_period('M')).size()\n",
    "\n",
    "# fig, axes = plt.subplots(2, 1, figsize=(12, 20))\n",
    "\n",
    "# # Per Day\n",
    "# sns.lineplot(ax=axes[0], x=tweets_per_day.index, y=tweets_per_day.values, marker='o', linewidth=2)\n",
    "# axes[0].set_title('Number of Tweets Per Day', fontsize=14)\n",
    "# axes[0].set_xlabel('Date', fontsize=12)\n",
    "# axes[0].set_ylabel('Number of Tweets', fontsize=12)\n",
    "# axes[0].tick_params(axis='x', rotation=45)\n",
    "# axes[0].grid(True)\n",
    "\n",
    "# # Per Month\n",
    "# sns.barplot(ax=axes[1], x=tweets_per_month.index.astype(str), y=tweets_per_month.values, palette=\"Blues_r\")\n",
    "# axes[1].set_title('Number of Tweets Per Month', fontsize=14)\n",
    "# axes[1].set_xlabel('Month', fontsize=12)\n",
    "# axes[1].set_ylabel('Number of Tweets', fontsize=12)\n",
    "# axes[1].tick_params(axis='x', rotation=45)\n",
    "# axes[1].grid(axis='y')"
   ]
  },
  {
   "cell_type": "markdown",
   "metadata": {},
   "source": [
    "### Party 03"
   ]
  },
  {
   "cell_type": "code",
   "execution_count": null,
   "metadata": {},
   "outputs": [],
   "source": [
    "merged_kubu_03.dropna(subset=['full_text'], inplace=True)\n",
    "token_data = [row.split() for row in merged_kubu_03['full_text']]\n",
    "all_words_no_stopwords = ' '.join([' '.join(tokens) for tokens in token_data])"
   ]
  },
  {
   "cell_type": "code",
   "execution_count": null,
   "metadata": {},
   "outputs": [],
   "source": [
    "wordcloud = WordCloud(width=800, height=400, background_color='white').generate(all_words_no_stopwords)\n",
    "plt.figure(figsize=(10, 5))\n",
    "plt.imshow(wordcloud, interpolation='bilinear')\n",
    "plt.axis('off')  # Hilangkan axis\n",
    "plt.show()"
   ]
  },
  {
   "cell_type": "code",
   "execution_count": null,
   "metadata": {},
   "outputs": [],
   "source": [
    "# Pecah string panjang menjadi list of words (tokenisasi)\n",
    "token_list = all_words_no_stopwords.split()\n",
    "\n",
    "# Hitung frekuensi kata menggunakan Counter\n",
    "word_counts = Counter(token_list)\n",
    "\n",
    "# Ambil 20 kata yang paling sering muncul\n",
    "most_common_words = word_counts.most_common(20)\n",
    "\n",
    "# Pisahkan kata dan frekuensinya untuk plotting\n",
    "words, frequencies = zip(*most_common_words)\n",
    "\n",
    "# Plot Bar Chart untuk kata-kata paling sering\n",
    "plt.figure(figsize=(10, 6))\n",
    "bars = plt.barh(words, frequencies, color='lightgreen')\n",
    "\n",
    "# Menambahkan label frekuensi di dalam batang\n",
    "for bar, frequency in zip(bars, frequencies):\n",
    "    plt.text(bar.get_width() - 100,  # Mengatur agar teks berada sedikit di dalam batang\n",
    "             bar.get_y() + bar.get_height() / 2,  # Posisi vertikal\n",
    "             f'{frequency}',  # Nilai frekuensi yang akan ditampilkan\n",
    "             va='center', ha='right', color='black', fontsize=10)  # Posisi dan gaya teks\n",
    "\n",
    "# Label sumbu\n",
    "plt.xlabel('Frekuensi')\n",
    "plt.ylabel('Kata')\n",
    "plt.title('Top 20 Kata Terbanyak')\n",
    "\n",
    "# Membalik sumbu y agar kata dengan frekuensi tertinggi di atas\n",
    "plt.gca().invert_yaxis()\n",
    "\n",
    "# Tampilkan plot\n",
    "plt.show()"
   ]
  },
  {
   "cell_type": "code",
   "execution_count": null,
   "metadata": {},
   "outputs": [],
   "source": [
    "merged_kubu_03['created_at'] = pd.to_datetime(merged_kubu_03['created_at'])\n",
    "tweets_per_day = merged_kubu_03.groupby(merged_kubu_03['created_at'].dt.date).size()\n",
    "tweets_per_month = merged_kubu_03.groupby(merged_kubu_03['created_at'].dt.to_period('M')).size()\n",
    "\n",
    "fig, axes = plt.subplots(2, 1, figsize=(12, 20))\n",
    "\n",
    "# Per Day\n",
    "sns.lineplot(ax=axes[0], x=tweets_per_day.index, y=tweets_per_day.values, marker='o', linewidth=2)\n",
    "axes[0].set_title('Number of Tweets Per Day', fontsize=14)\n",
    "axes[0].set_xlabel('Date', fontsize=12)\n",
    "axes[0].set_ylabel('Number of Tweets', fontsize=12)\n",
    "axes[0].tick_params(axis='x', rotation=45)\n",
    "axes[0].grid(True)\n",
    "\n",
    "# Per Month\n",
    "sns.barplot(ax=axes[1], x=tweets_per_month.index.astype(str), y=tweets_per_month.values, palette=\"Blues_r\")\n",
    "axes[1].set_title('Number of Tweets Per Month', fontsize=14)\n",
    "axes[1].set_xlabel('Month', fontsize=12)\n",
    "axes[1].set_ylabel('Number of Tweets', fontsize=12)\n",
    "axes[1].tick_params(axis='x', rotation=45)\n",
    "axes[1].grid(axis='y')"
   ]
  }
 ],
 "metadata": {
  "kernelspec": {
   "display_name": "Python 3",
   "language": "python",
   "name": "python3"
  },
  "language_info": {
   "codemirror_mode": {
    "name": "ipython",
    "version": 3
   },
   "file_extension": ".py",
   "mimetype": "text/x-python",
   "name": "python",
   "nbconvert_exporter": "python",
   "pygments_lexer": "ipython3",
   "version": "3.10.10"
  }
 },
 "nbformat": 4,
 "nbformat_minor": 2
}
