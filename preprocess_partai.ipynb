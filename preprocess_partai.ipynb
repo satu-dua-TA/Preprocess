{
 "cells": [
  {
   "cell_type": "markdown",
   "id": "edb3a76c",
   "metadata": {},
   "source": [
    "# Library"
   ]
  },
  {
   "cell_type": "code",
   "execution_count": 197,
   "id": "fa89e6ca",
   "metadata": {},
   "outputs": [],
   "source": [
    "import os\n",
    "import re\n",
    "import numpy as np\n",
    "import pandas as pd\n",
    "import matplotlib.pyplot as plt\n",
    "import emoji\n",
    "import nltk\n",
    "from Sastrawi.Stemmer.StemmerFactory import StemmerFactory\n",
    "from nltk.corpus import stopwords"
   ]
  },
  {
   "cell_type": "markdown",
   "id": "9149c471",
   "metadata": {},
   "source": [
    "# Read Dataset"
   ]
  },
  {
   "cell_type": "code",
   "execution_count": 198,
   "id": "06fa21f2",
   "metadata": {},
   "outputs": [],
   "source": [
    "data_gerindra = pd.read_csv('dataset/gerindra.csv')\n",
    "data_golkar = pd.read_csv('dataset/golkar.csv')\n",
    "data_pan = pd.read_csv('dataset/partai amanat nasional.csv')\n",
    "data_demokrat = pd.read_csv('dataset/partai demokrat.csv')\n",
    "data_pks = pd.read_csv('dataset/partai keadilan sejahtera.csv')\n",
    "data_nasdem = pd.read_csv('dataset/partai nasional demokrat.csv')\n",
    "data_pdip = pd.read_csv('dataset/pdip.csv')\n",
    "data_pkb = pd.read_csv('dataset/PKB.csv')"
   ]
  },
  {
   "cell_type": "markdown",
   "id": "1af1904d",
   "metadata": {},
   "source": [
    "## Drop Unnecessary Column "
   ]
  },
  {
   "cell_type": "code",
   "execution_count": 199,
   "id": "c0914d3b",
   "metadata": {},
   "outputs": [],
   "source": [
    "column_names = ['created_at', 'id_str', 'full_text', 'lang', 'location',]"
   ]
  },
  {
   "cell_type": "code",
   "execution_count": 200,
   "id": "42a20d77",
   "metadata": {},
   "outputs": [],
   "source": [
    "data_gerindra = data_gerindra[column_names]\n",
    "data_golkar = data_golkar[column_names]\n",
    "data_pan = data_pan[column_names]\n",
    "data_demokrat = data_demokrat[column_names]\n",
    "data_pks = data_pks[column_names]\n",
    "data_nasdem = data_nasdem[column_names]\n",
    "data_pdip = data_pdip[column_names]\n",
    "data_pkb = data_pkb[column_names]"
   ]
  },
  {
   "cell_type": "code",
   "execution_count": 201,
   "id": "a8e74bb1",
   "metadata": {},
   "outputs": [],
   "source": [
    "data_partai = [data_gerindra, data_golkar, data_pan, data_demokrat, data_pks, data_nasdem, data_pdip, data_pkb]"
   ]
  },
  {
   "cell_type": "code",
   "execution_count": 202,
   "id": "8d81ba59",
   "metadata": {},
   "outputs": [
    {
     "name": "stdout",
     "output_type": "stream",
     "text": [
      "Index(['created_at', 'id_str', 'full_text', 'lang', 'location'], dtype='object')\n",
      "Index(['created_at', 'id_str', 'full_text', 'lang', 'location'], dtype='object')\n",
      "Index(['created_at', 'id_str', 'full_text', 'lang', 'location'], dtype='object')\n",
      "Index(['created_at', 'id_str', 'full_text', 'lang', 'location'], dtype='object')\n",
      "Index(['created_at', 'id_str', 'full_text', 'lang', 'location'], dtype='object')\n",
      "Index(['created_at', 'id_str', 'full_text', 'lang', 'location'], dtype='object')\n",
      "Index(['created_at', 'id_str', 'full_text', 'lang', 'location'], dtype='object')\n",
      "Index(['created_at', 'id_str', 'full_text', 'lang', 'location'], dtype='object')\n"
     ]
    }
   ],
   "source": [
    "for i in range(len(data_partai)):\n",
    "    print(data_partai[i].columns)"
   ]
  },
  {
   "cell_type": "code",
   "execution_count": 203,
   "id": "e2b8be01",
   "metadata": {},
   "outputs": [
    {
     "name": "stdout",
     "output_type": "stream",
     "text": [
      "                       created_at               id_str  \\\n",
      "0  Wed Nov 01 09:21:28 +0000 2023  1719645824047788466   \n",
      "1  Wed Nov 01 08:49:05 +0000 2023  1719637674661912853   \n",
      "2  Wed Nov 01 07:15:56 +0000 2023  1719614232235475176   \n",
      "3  Thu Nov 02 11:51:48 +0000 2023  1720046042262204510   \n",
      "4  Thu Nov 02 11:41:55 +0000 2023  1720043558672159108   \n",
      "\n",
      "                                           full_text lang location  \n",
      "0  Sementara itu pasangan Prabowo-Gibran diusung ...   in      NaN  \n",
      "1  Sementara itu pasangan Prabowo-Gibran diusung ...   in      NaN  \n",
      "2  Sementara itu pasangan Prabowo-Gibran diusung ...   in      NaN  \n",
      "3  Kader Partai Gerakan Indonesia Raya (Gerindra)...   in      NaN  \n",
      "4  Kader Partai Gerakan Indonesia Raya (Gerindra)...   in      NaN  \n",
      "==================================\n",
      "                       created_at               id_str  \\\n",
      "0  Wed Nov 01 09:21:28 +0000 2023  1719645824047788466   \n",
      "1  Wed Nov 01 08:49:05 +0000 2023  1719637674661912853   \n",
      "2  Wed Nov 01 07:15:56 +0000 2023  1719614232235475176   \n",
      "3  Thu Nov 02 11:49:20 +0000 2023  1720045422960595334   \n",
      "4  Thu Nov 02 11:25:17 +0000 2023  1720039369808154652   \n",
      "\n",
      "                                           full_text lang location  \n",
      "0  Sementara itu pasangan Prabowo-Gibran diusung ...   in      NaN  \n",
      "1  Sementara itu pasangan Prabowo-Gibran diusung ...   in      NaN  \n",
      "2  Sementara itu pasangan Prabowo-Gibran diusung ...   in      NaN  \n",
      "3  JAKARTA https://t.co/kKtNXT6EeH - Partai Golon...   in      NaN  \n",
      "4  Sementara itu pasangan Prabowo-Gibran diusung ...   in      NaN  \n",
      "==================================\n",
      "                       created_at               id_str  \\\n",
      "0  Wed Nov 01 10:20:29 +0000 2023  1719660675650441439   \n",
      "1  Wed Nov 01 10:20:28 +0000 2023  1719660672882270614   \n",
      "2  Wed Nov 01 09:57:19 +0000 2023  1719654847258218600   \n",
      "3  Wed Nov 01 09:54:11 +0000 2023  1719654057068077190   \n",
      "4  Wed Nov 01 09:21:28 +0000 2023  1719645824047788466   \n",
      "\n",
      "                                           full_text lang location  \n",
      "0  Ketika dimintai keterangan Zita Anjani Ketua D...   in      NaN  \n",
      "1  Pagi ini di kediaman Zulkifli Hasan di kawasan...   in      NaN  \n",
      "2  Erick bahkan didorong Partai Amanat Nasional (...   in      NaN  \n",
      "3  Sebelumnya diketahui Partai Amanat Nasional (P...   in      NaN  \n",
      "4  Sementara itu pasangan Prabowo-Gibran diusung ...   in      NaN  \n",
      "==================================\n",
      "                       created_at               id_str  \\\n",
      "0  Wed Nov 01 23:36:59 +0000 2023  1719861119576330630   \n",
      "1  Wed Nov 01 23:32:36 +0000 2023  1719860019230093712   \n",
      "2  Wed Nov 01 23:02:31 +0000 2023  1719852446250594776   \n",
      "3  Wed Nov 01 22:16:53 +0000 2023  1719840962472808891   \n",
      "4  Wed Nov 01 21:55:50 +0000 2023  1719835665721151498   \n",
      "\n",
      "                                           full_text lang            location  \n",
      "0  @BennyHarmanID Maaf bukankah partai Demokrat d...   in                 NaN  \n",
      "1  Survey suara partai di Jatim 1. PDIP 17 8% 2. ...   in          Indonesia   \n",
      "2  Serap aspirasi masyarakat Demokrat komitmen pe...   in                 NaN  \n",
      "3  @Paltiwest Santai sj pak. RK itu Golkar. Katan...   in  Jakarta, Indonesia  \n",
      "4  @geloraco Bukan hanya dia tp yg dr partai demo...   in             Unknown  \n",
      "==================================\n",
      "                       created_at               id_str  \\\n",
      "0  Wed Nov 01 10:16:33 +0000 2023  1719659686423921120   \n",
      "1  Wed Nov 01 10:16:25 +0000 2023  1719659651393073500   \n",
      "2  Wed Nov 01 10:15:24 +0000 2023  1719659397776040058   \n",
      "3  Wed Nov 01 09:21:27 +0000 2023  1719645817521484091   \n",
      "4  Wed Nov 01 09:17:35 +0000 2023  1719644847450300818   \n",
      "\n",
      "                                           full_text lang location  \n",
      "0  Di Hadapan Legislator PKS Jatijaya Irwan Prayi...   in   bekasi  \n",
      "1  Ketua FPKS DPR RI: Jatijaya Harapan Besar Keme...   in   bekasi  \n",
      "2  PKS Menyapa Warga di PMI Cikarang Utara: Senam...   in   bekasi  \n",
      "3  Pasangan Anies-Muhaimin diusung oleh Partai Na...   in      NaN  \n",
      "4  Di Hadapan Legislator PKS Jatijaya Irwan Prayi...   in      NaN  \n",
      "==================================\n",
      "                       created_at               id_str  \\\n",
      "0  Wed Nov 01 18:13:34 +0000 2023  1719779730457805037   \n",
      "1  Wed Nov 01 14:08:34 +0000 2023  1719718073295597577   \n",
      "2  Wed Nov 01 07:50:27 +0000 2023  1719622918752416225   \n",
      "3  Thu Nov 02 11:32:35 +0000 2023  1720041206913376631   \n",
      "4  Thu Nov 02 09:18:37 +0000 2023  1720007494561640606   \n",
      "\n",
      "                                           full_text lang          location  \n",
      "0   Pasca Pertemuan para Calon Presiden dengan Pr...   in         Indonesia  \n",
      "1  Wakil Ketua Umum (Waketum) Partai NasDem Ahmad...   in               NaN  \n",
      "2  Partai Golkar Partai Amanat Nasional (PAN) Par...   in  Jakarta Selatan   \n",
      "3  Ketua DPP Partai Demokrat Herman Khaeron menga...   in               NaN  \n",
      "4  Koalisi ini didukung oleh empat partai politik...   in               NaN  \n",
      "==================================\n",
      "                       created_at               id_str  \\\n",
      "0  Wed Nov 01 12:38:40 +0000 2023  1719695451304411569   \n",
      "1  Wed Nov 01 11:01:20 +0000 2023  1719670955880968261   \n",
      "2  Wed Nov 01 10:26:17 +0000 2023  1719662134689468477   \n",
      "3  Wed Nov 01 09:55:43 +0000 2023  1719654443300610215   \n",
      "4  Wed Nov 01 09:21:27 +0000 2023  1719645820793061716   \n",
      "\n",
      "                                           full_text lang  \\\n",
      "0  PARTAI Demokrasi Indonesia Perjuangan (PDIP) m...   in   \n",
      "1  Menurut survei Indikator Politik Indonesia Par...   in   \n",
      "2  H. Mohamad Guntur Romli (lahir 17 Maret 1978) ...   in   \n",
      "3  Budi Arie dengan santai menepis anggapan bahwa...   in   \n",
      "4  Pasangan Ganjar-Mahfud Md. diusung oleh Partai...   in   \n",
      "\n",
      "                location  \n",
      "0    Jakarta - Indonesia  \n",
      "1                    NaN  \n",
      "2  Jawa Timur, Indonesia  \n",
      "3                    NaN  \n",
      "4                    NaN  \n",
      "==================================\n",
      "                       created_at               id_str  \\\n",
      "0  Wed Nov 01 13:01:13 +0000 2023  1719701125346267186   \n",
      "1  Wed Nov 01 11:33:30 +0000 2023  1719679049700872517   \n",
      "2  Wed Nov 01 10:16:24 +0000 2023  1719659647211315225   \n",
      "3  Wed Nov 01 09:21:27 +0000 2023  1719645817521484091   \n",
      "4  Wed Nov 01 08:49:03 +0000 2023  1719637665665147224   \n",
      "\n",
      "                                           full_text lang location  \n",
      "0  Ketua DPP Partai Kebangkitan Bangsa (PKB) Dani...   in      NaN  \n",
      "1  Partai kebangkitan Bangsa yang selama ini yang...   in      NaN  \n",
      "2  @Vigriawan_van @JudahLion88 @ninikwafiroh part...   in   BLITAR  \n",
      "3  Pasangan Anies-Muhaimin diusung oleh Partai Na...   in      NaN  \n",
      "4  Pasangan Anies-Muhaimin diusung oleh Partai Na...   in      NaN  \n",
      "==================================\n"
     ]
    }
   ],
   "source": [
    "for i in range(len(data_partai)):\n",
    "    print(data_partai[i].head())\n",
    "    print(\"==================================\")"
   ]
  },
  {
   "cell_type": "markdown",
   "id": "8da2f9d9",
   "metadata": {},
   "source": [
    "## Transform Column 'created_at' to Date"
   ]
  },
  {
   "cell_type": "code",
   "execution_count": 204,
   "id": "865527ed",
   "metadata": {},
   "outputs": [],
   "source": [
    "def simplify_and_sort_created_at(df):\n",
    "    df['created_at'] = pd.to_datetime(df['created_at'], format='%a %b %d %H:%M:%S %z %Y').dt.date\n",
    "    return df.sort_values(by='created_at')"
   ]
  },
  {
   "cell_type": "code",
   "execution_count": 205,
   "id": "592b6f86",
   "metadata": {},
   "outputs": [],
   "source": [
    "for i in range(len(data_partai)):\n",
    "    simplify_and_sort_created_at(data_partai[i])"
   ]
  },
  {
   "cell_type": "code",
   "execution_count": 206,
   "id": "eeccc017",
   "metadata": {},
   "outputs": [
    {
     "name": "stdout",
     "output_type": "stream",
     "text": [
      "   created_at               id_str  \\\n",
      "0  2023-11-01  1719645824047788466   \n",
      "1  2023-11-01  1719637674661912853   \n",
      "2  2023-11-01  1719614232235475176   \n",
      "3  2023-11-02  1720046042262204510   \n",
      "4  2023-11-02  1720043558672159108   \n",
      "\n",
      "                                           full_text lang location  \n",
      "0  Sementara itu pasangan Prabowo-Gibran diusung ...   in      NaN  \n",
      "1  Sementara itu pasangan Prabowo-Gibran diusung ...   in      NaN  \n",
      "2  Sementara itu pasangan Prabowo-Gibran diusung ...   in      NaN  \n",
      "3  Kader Partai Gerakan Indonesia Raya (Gerindra)...   in      NaN  \n",
      "4  Kader Partai Gerakan Indonesia Raya (Gerindra)...   in      NaN  \n",
      "==================================\n",
      "   created_at               id_str  \\\n",
      "0  2023-11-01  1719645824047788466   \n",
      "1  2023-11-01  1719637674661912853   \n",
      "2  2023-11-01  1719614232235475176   \n",
      "3  2023-11-02  1720045422960595334   \n",
      "4  2023-11-02  1720039369808154652   \n",
      "\n",
      "                                           full_text lang location  \n",
      "0  Sementara itu pasangan Prabowo-Gibran diusung ...   in      NaN  \n",
      "1  Sementara itu pasangan Prabowo-Gibran diusung ...   in      NaN  \n",
      "2  Sementara itu pasangan Prabowo-Gibran diusung ...   in      NaN  \n",
      "3  JAKARTA https://t.co/kKtNXT6EeH - Partai Golon...   in      NaN  \n",
      "4  Sementara itu pasangan Prabowo-Gibran diusung ...   in      NaN  \n",
      "==================================\n",
      "   created_at               id_str  \\\n",
      "0  2023-11-01  1719660675650441439   \n",
      "1  2023-11-01  1719660672882270614   \n",
      "2  2023-11-01  1719654847258218600   \n",
      "3  2023-11-01  1719654057068077190   \n",
      "4  2023-11-01  1719645824047788466   \n",
      "\n",
      "                                           full_text lang location  \n",
      "0  Ketika dimintai keterangan Zita Anjani Ketua D...   in      NaN  \n",
      "1  Pagi ini di kediaman Zulkifli Hasan di kawasan...   in      NaN  \n",
      "2  Erick bahkan didorong Partai Amanat Nasional (...   in      NaN  \n",
      "3  Sebelumnya diketahui Partai Amanat Nasional (P...   in      NaN  \n",
      "4  Sementara itu pasangan Prabowo-Gibran diusung ...   in      NaN  \n",
      "==================================\n",
      "   created_at               id_str  \\\n",
      "0  2023-11-01  1719861119576330630   \n",
      "1  2023-11-01  1719860019230093712   \n",
      "2  2023-11-01  1719852446250594776   \n",
      "3  2023-11-01  1719840962472808891   \n",
      "4  2023-11-01  1719835665721151498   \n",
      "\n",
      "                                           full_text lang            location  \n",
      "0  @BennyHarmanID Maaf bukankah partai Demokrat d...   in                 NaN  \n",
      "1  Survey suara partai di Jatim 1. PDIP 17 8% 2. ...   in          Indonesia   \n",
      "2  Serap aspirasi masyarakat Demokrat komitmen pe...   in                 NaN  \n",
      "3  @Paltiwest Santai sj pak. RK itu Golkar. Katan...   in  Jakarta, Indonesia  \n",
      "4  @geloraco Bukan hanya dia tp yg dr partai demo...   in             Unknown  \n",
      "==================================\n",
      "   created_at               id_str  \\\n",
      "0  2023-11-01  1719659686423921120   \n",
      "1  2023-11-01  1719659651393073500   \n",
      "2  2023-11-01  1719659397776040058   \n",
      "3  2023-11-01  1719645817521484091   \n",
      "4  2023-11-01  1719644847450300818   \n",
      "\n",
      "                                           full_text lang location  \n",
      "0  Di Hadapan Legislator PKS Jatijaya Irwan Prayi...   in   bekasi  \n",
      "1  Ketua FPKS DPR RI: Jatijaya Harapan Besar Keme...   in   bekasi  \n",
      "2  PKS Menyapa Warga di PMI Cikarang Utara: Senam...   in   bekasi  \n",
      "3  Pasangan Anies-Muhaimin diusung oleh Partai Na...   in      NaN  \n",
      "4  Di Hadapan Legislator PKS Jatijaya Irwan Prayi...   in      NaN  \n",
      "==================================\n",
      "   created_at               id_str  \\\n",
      "0  2023-11-01  1719779730457805037   \n",
      "1  2023-11-01  1719718073295597577   \n",
      "2  2023-11-01  1719622918752416225   \n",
      "3  2023-11-02  1720041206913376631   \n",
      "4  2023-11-02  1720007494561640606   \n",
      "\n",
      "                                           full_text lang          location  \n",
      "0   Pasca Pertemuan para Calon Presiden dengan Pr...   in         Indonesia  \n",
      "1  Wakil Ketua Umum (Waketum) Partai NasDem Ahmad...   in               NaN  \n",
      "2  Partai Golkar Partai Amanat Nasional (PAN) Par...   in  Jakarta Selatan   \n",
      "3  Ketua DPP Partai Demokrat Herman Khaeron menga...   in               NaN  \n",
      "4  Koalisi ini didukung oleh empat partai politik...   in               NaN  \n",
      "==================================\n",
      "   created_at               id_str  \\\n",
      "0  2023-11-01  1719695451304411569   \n",
      "1  2023-11-01  1719670955880968261   \n",
      "2  2023-11-01  1719662134689468477   \n",
      "3  2023-11-01  1719654443300610215   \n",
      "4  2023-11-01  1719645820793061716   \n",
      "\n",
      "                                           full_text lang  \\\n",
      "0  PARTAI Demokrasi Indonesia Perjuangan (PDIP) m...   in   \n",
      "1  Menurut survei Indikator Politik Indonesia Par...   in   \n",
      "2  H. Mohamad Guntur Romli (lahir 17 Maret 1978) ...   in   \n",
      "3  Budi Arie dengan santai menepis anggapan bahwa...   in   \n",
      "4  Pasangan Ganjar-Mahfud Md. diusung oleh Partai...   in   \n",
      "\n",
      "                location  \n",
      "0    Jakarta - Indonesia  \n",
      "1                    NaN  \n",
      "2  Jawa Timur, Indonesia  \n",
      "3                    NaN  \n",
      "4                    NaN  \n",
      "==================================\n",
      "   created_at               id_str  \\\n",
      "0  2023-11-01  1719701125346267186   \n",
      "1  2023-11-01  1719679049700872517   \n",
      "2  2023-11-01  1719659647211315225   \n",
      "3  2023-11-01  1719645817521484091   \n",
      "4  2023-11-01  1719637665665147224   \n",
      "\n",
      "                                           full_text lang location  \n",
      "0  Ketua DPP Partai Kebangkitan Bangsa (PKB) Dani...   in      NaN  \n",
      "1  Partai kebangkitan Bangsa yang selama ini yang...   in      NaN  \n",
      "2  @Vigriawan_van @JudahLion88 @ninikwafiroh part...   in   BLITAR  \n",
      "3  Pasangan Anies-Muhaimin diusung oleh Partai Na...   in      NaN  \n",
      "4  Pasangan Anies-Muhaimin diusung oleh Partai Na...   in      NaN  \n",
      "==================================\n"
     ]
    }
   ],
   "source": [
    "for i in range(len(data_partai)):\n",
    "    print(data_partai[i].head())\n",
    "    print(\"==================================\")"
   ]
  },
  {
   "cell_type": "markdown",
   "id": "5d745d43",
   "metadata": {},
   "source": [
    "## Preprocess"
   ]
  },
  {
   "cell_type": "markdown",
   "id": "2290b51b",
   "metadata": {},
   "source": [
    "### Drop Null"
   ]
  },
  {
   "cell_type": "code",
   "execution_count": 207,
   "id": "4c587d8d",
   "metadata": {},
   "outputs": [],
   "source": [
    "# for i in range(len(data_partai)):\n",
    "#     data_partai[i].dropna(inplace=True)\n",
    "#     print(data_partai[i].isnull().sum())\n",
    "#     print(\"==================================\")"
   ]
  },
  {
   "cell_type": "markdown",
   "id": "f719376c",
   "metadata": {},
   "source": [
    "### Drop Duplicates"
   ]
  },
  {
   "cell_type": "code",
   "execution_count": 208,
   "id": "6e571831",
   "metadata": {},
   "outputs": [
    {
     "name": "stdout",
     "output_type": "stream",
     "text": [
      "Data Gerindra:     created_at               id_str  \\\n",
      "0  2023-11-01  1719645824047788466   \n",
      "1  2023-11-01  1719637674661912853   \n",
      "2  2023-11-01  1719614232235475176   \n",
      "3  2023-11-02  1720046042262204510   \n",
      "4  2023-11-02  1720043558672159108   \n",
      "\n",
      "                                           full_text lang location  \n",
      "0  Sementara itu pasangan Prabowo-Gibran diusung ...   in      NaN  \n",
      "1  Sementara itu pasangan Prabowo-Gibran diusung ...   in      NaN  \n",
      "2  Sementara itu pasangan Prabowo-Gibran diusung ...   in      NaN  \n",
      "3  Kader Partai Gerakan Indonesia Raya (Gerindra)...   in      NaN  \n",
      "4  Kader Partai Gerakan Indonesia Raya (Gerindra)...   in      NaN  \n"
     ]
    }
   ],
   "source": [
    "print(\"Data Gerindra: \", data_gerindra.head())"
   ]
  },
  {
   "cell_type": "code",
   "execution_count": 209,
   "id": "e6fc3c6c",
   "metadata": {},
   "outputs": [
    {
     "name": "stdout",
     "output_type": "stream",
     "text": [
      "0\n",
      "==================================\n",
      "0\n",
      "==================================\n",
      "0\n",
      "==================================\n",
      "0\n",
      "==================================\n",
      "0\n",
      "==================================\n",
      "0\n",
      "==================================\n",
      "0\n",
      "==================================\n",
      "0\n",
      "==================================\n"
     ]
    }
   ],
   "source": [
    "for i in range(len(data_partai)):\n",
    "    print(data_partai[i].duplicated(subset=['id_str', 'full_text']).sum())\n",
    "    print(\"==================================\")"
   ]
  },
  {
   "cell_type": "code",
   "execution_count": 210,
   "id": "b59561e4",
   "metadata": {},
   "outputs": [],
   "source": [
    "for i in range(len(data_partai)):\n",
    "    data_partai[i] = data_partai[i].drop_duplicates(subset=['id_str', 'full_text'])"
   ]
  },
  {
   "cell_type": "markdown",
   "id": "53c6bb28",
   "metadata": {},
   "source": [
    "## Drop Tweet That Aren't ID"
   ]
  },
  {
   "cell_type": "code",
   "execution_count": 211,
   "id": "3ce9722c",
   "metadata": {},
   "outputs": [],
   "source": [
    "for i in range(len(data_partai)):\n",
    "    data_partai[i] = data_partai[i][data_partai[i]['lang'] == 'in']"
   ]
  },
  {
   "cell_type": "markdown",
   "id": "fcad4040",
   "metadata": {},
   "source": [
    "## Drop @ Account"
   ]
  },
  {
   "cell_type": "code",
   "execution_count": 212,
   "id": "79a6223c",
   "metadata": {},
   "outputs": [],
   "source": [
    "def process_mentions(text, keep_username, replacement_username):\n",
    "    words = text.split()  # Pisahkan teks menjadi kata-kata\n",
    "    processed_words = []\n",
    "    \n",
    "    for word in words:\n",
    "        # Periksa apakah kata dimulai dengan '@' dan bukan username yang ingin dipertahankan (case insensitive)\n",
    "        if word.lower().startswith('@') and keep_username.lower() not in word.lower():\n",
    "            processed_words.append('[user]')\n",
    "        elif word.lower() == '@' + keep_username.lower():  # Jika sesuai dengan username yang ingin dipertahankan\n",
    "            processed_words.append(replacement_username)  # Ganti dengan nama yang diinginkan (case-sensitif)\n",
    "        else:\n",
    "            processed_words.append(word)\n",
    "    \n",
    "    # Gabungkan kata-kata kembali menjadi satu string dan hapus [user]\n",
    "    result_text = ' '.join([word for word in processed_words if word != '[user]']).strip()\n",
    "    return result_text"
   ]
  },
  {
   "cell_type": "markdown",
   "id": "9a861d60",
   "metadata": {},
   "source": [
    "### Partain Gerindra"
   ]
  },
  {
   "cell_type": "code",
   "execution_count": 213,
   "id": "2c6c7222",
   "metadata": {},
   "outputs": [],
   "source": [
    "data_gerindra['full_text'] = data_gerindra['full_text'].apply(lambda x: process_mentions(str(x), keep_username='Gerindra', replacement_username='Gerindra'))\n",
    "data_partai[0] = data_gerindra"
   ]
  },
  {
   "cell_type": "code",
   "execution_count": 214,
   "id": "07f1583d",
   "metadata": {},
   "outputs": [],
   "source": [
    "# data_gerindra['full_text'] = data_gerindra['full_text'].str.replace(r'@([^\\s]*)(?!gerindra)', '[user]', regex=True, flags=re.IGNORECASE)\n",
    "# data_gerindra['full_text'] = data_gerindra['full_text'].str.replace(r'\\[user\\]', '', regex=True).str.strip()\n",
    "# data_gerindra['full_text'] = data_gerindra['full_text'].str.replace(r'@Gerindra', 'Gerindra', regex=True, flags=re.IGNORECASE)"
   ]
  },
  {
   "cell_type": "markdown",
   "id": "53748853",
   "metadata": {},
   "source": [
    "### Partai Golkar"
   ]
  },
  {
   "cell_type": "code",
   "execution_count": 215,
   "id": "caed05ff",
   "metadata": {},
   "outputs": [],
   "source": [
    "data_golkar['full_text'] = data_golkar['full_text'].apply(lambda x: process_mentions(str(x), keep_username='Golkar', replacement_username='Golkar'))\n",
    "data_partai[1] = data_golkar"
   ]
  },
  {
   "cell_type": "code",
   "execution_count": 216,
   "id": "6511ede3",
   "metadata": {},
   "outputs": [],
   "source": [
    "# data_golkar['full_text'] = data_golkar['full_text'].str.replace(r'@([^\\s]*)(?!golkar)', '[user]', regex=True, flags=re.IGNORECASE)\n",
    "# data_golkar['full_text'] = data_golkar['full_text'].str.replace(r'\\[user\\]', '', regex=True).str.strip()\n",
    "# data_golkar['full_text'] = data_golkar['full_text'].str.replace(r'@Golkar', 'Golkar', regex=True, flags=re.IGNORECASE)"
   ]
  },
  {
   "cell_type": "markdown",
   "id": "bdc8253d",
   "metadata": {},
   "source": [
    "### PAN"
   ]
  },
  {
   "cell_type": "code",
   "execution_count": 217,
   "id": "3d4b626f",
   "metadata": {},
   "outputs": [],
   "source": [
    "data_pan['full_text'] = data_pan['full_text'].apply(lambda x: process_mentions(str(x), keep_username='Official_PAN', replacement_username='PAN'))\n",
    "data_partai[2] = data_pan"
   ]
  },
  {
   "cell_type": "code",
   "execution_count": 218,
   "id": "d7126424",
   "metadata": {},
   "outputs": [],
   "source": [
    "# data_pan['full_text'] = data_pan['full_text'].str.replace(r'@([^\\s]*)(?!Official_PAN)', '[user]', regex=True, flags=re.IGNORECASE)\n",
    "# data_pan['full_text'] = data_pan['full_text'].str.replace(r'\\[user\\]', '', regex=True).str.strip()\n",
    "# data_pan['full_text'] = data_pan['full_text'].str.replace(r'@Official_PAN', 'PAN', regex=True, flags=re.IGNORECASE)"
   ]
  },
  {
   "cell_type": "markdown",
   "id": "ba29b095",
   "metadata": {},
   "source": [
    "### Partai Demokrat"
   ]
  },
  {
   "cell_type": "code",
   "execution_count": 219,
   "id": "3a64b96e",
   "metadata": {},
   "outputs": [],
   "source": [
    "data_demokrat['full_text'] = data_demokrat['full_text'].apply(lambda x: process_mentions(str(x), keep_username='Demokrat', replacement_username='Demokrat'))\n",
    "data_partai[3] = data_demokrat"
   ]
  },
  {
   "cell_type": "code",
   "execution_count": 220,
   "id": "6a0ff2de",
   "metadata": {},
   "outputs": [],
   "source": [
    "# data_demokrat['full_text'] = data_demokrat['full_text'].str.replace(r'@([^\\s]*)(?!demokrat)', '[user]', regex=True, flags=re.IGNORECASE)\n",
    "# data_demokrat['full_text'] = data_demokrat['full_text'].str.replace(r'\\[user\\]', '', regex=True).str.strip()\n",
    "# data_demokrat['full_text'] = data_demokrat['full_text'].str.replace(r'@demokrat', 'Demokrat', regex=True, flags=re.IGNORECASE)"
   ]
  },
  {
   "cell_type": "markdown",
   "id": "33a95e2a",
   "metadata": {},
   "source": [
    "### PKS"
   ]
  },
  {
   "cell_type": "code",
   "execution_count": 221,
   "id": "ab087257",
   "metadata": {},
   "outputs": [],
   "source": [
    "data_pks['full_text'] = data_pks['full_text'].apply(lambda x: process_mentions(str(x), keep_username='PKSejahtera', replacement_username='PKS'))\n",
    "data_partai[4] = data_pks"
   ]
  },
  {
   "cell_type": "code",
   "execution_count": 222,
   "id": "37a24954",
   "metadata": {},
   "outputs": [],
   "source": [
    "# data_pks['full_text'] = data_pks['full_text'].str.replace(r'@([^\\s]*)(?!PKSejahtera)', '[user]', regex=True, flags=re.IGNORECASE)\n",
    "# data_pks['full_text'] = data_pks['full_text'].str.replace(r'\\[user\\]', '', regex=True).str.strip()\n",
    "# data_pks['full_text'] = data_pks['full_text'].str.replace(r'@PKSejahtera', 'PKS', regex=True, flags=re.IGNORECASE)\n"
   ]
  },
  {
   "cell_type": "markdown",
   "id": "c9d1ae25",
   "metadata": {},
   "source": [
    "### Nasdem"
   ]
  },
  {
   "cell_type": "code",
   "execution_count": 223,
   "id": "27124a8a",
   "metadata": {},
   "outputs": [],
   "source": [
    "data_nasdem['full_text'] = data_nasdem['full_text'].apply(lambda x: process_mentions(str(x), keep_username='Nasdem', replacement_username='Nasdem'))\n",
    "data_partai[5] = data_nasdem"
   ]
  },
  {
   "cell_type": "code",
   "execution_count": 224,
   "id": "b3c45d6d",
   "metadata": {},
   "outputs": [],
   "source": [
    "# data_nasdem['full_text'] = data_nasdem['full_text'].str.replace(r'@([^\\s]*)(?!Nasdem)', '[user]', regex=True, flags=re.IGNORECASE)\n",
    "# data_nasdem['full_text'] = data_nasdem['full_text'].str.replace(r'\\[user\\]', '', regex=True).str.strip()\n",
    "# data_nasdem['full_text'] = data_nasdem['full_text'].str.replace(r'@Nasdem', 'Nasdem', regex=True, flags=re.IGNORECASE)"
   ]
  },
  {
   "cell_type": "markdown",
   "id": "04404952",
   "metadata": {},
   "source": [
    "### PDIP"
   ]
  },
  {
   "cell_type": "code",
   "execution_count": 225,
   "id": "2d24271d",
   "metadata": {},
   "outputs": [],
   "source": [
    "data_pdip['full_text'] = data_pdip['full_text'].apply(lambda x: process_mentions(str(x), keep_username='PDI_Perjuangan', replacement_username='PDIP'))\n",
    "data_partai[6] = data_pdip"
   ]
  },
  {
   "cell_type": "code",
   "execution_count": 226,
   "id": "a241edb5",
   "metadata": {},
   "outputs": [],
   "source": [
    "# data_pdip['full_text'] = data_pdip['full_text'].str.replace(r'@([^\\s]*)(?!PDI_Perjuangan)', '[user]', regex=True, flags=re.IGNORECASE)\n",
    "# data_pdip['full_text'] = data_pdip['full_text'].str.replace(r'\\[user\\]', '', regex=True).str.strip()\n",
    "# data_pdip['full_text'] = data_pdip['full_text'].str.replace(r'@PDI_Perjuangan', 'PDIP', regex=True, flags=re.IGNORECASE)"
   ]
  },
  {
   "cell_type": "markdown",
   "id": "a4ebb1e4",
   "metadata": {},
   "source": [
    "### PKB"
   ]
  },
  {
   "cell_type": "code",
   "execution_count": 227,
   "id": "c6c9e7f4",
   "metadata": {},
   "outputs": [],
   "source": [
    "data_pkb['full_text'] = data_pkb['full_text'].apply(lambda x: process_mentions(str(x), keep_username='PKB', replacement_username='PKB'))\n",
    "data_partai[7] = data_pkb"
   ]
  },
  {
   "cell_type": "code",
   "execution_count": 228,
   "id": "65d9c67d",
   "metadata": {},
   "outputs": [],
   "source": [
    "# data_pkb['full_text'] = data_pkb['full_text'].str.replace(r'@([^\\s]*)(?!PKB)', '[user]', regex=True, flags=re.IGNORECASE)\n",
    "# data_pkb['full_text'] = data_pkb['full_text'].str.replace(r'\\[user\\]', '', regex=True).str.strip()\n",
    "# data_pkb['full_text'] = data_pkb['full_text'].str.replace(r'@PKB', 'PKB', regex=True, flags=re.IGNORECASE)"
   ]
  },
  {
   "cell_type": "markdown",
   "id": "254aff03",
   "metadata": {},
   "source": [
    "## Drop Link in Colum Full Text"
   ]
  },
  {
   "cell_type": "code",
   "execution_count": 229,
   "id": "8a46dbe1",
   "metadata": {},
   "outputs": [],
   "source": [
    "def remove_links(text):\n",
    "    if not isinstance(text, str):\n",
    "        return text\n",
    "    return re.sub(r'https?://\\S+', '', text)"
   ]
  },
  {
   "cell_type": "code",
   "execution_count": 230,
   "id": "f13e93b5",
   "metadata": {},
   "outputs": [
    {
     "name": "stdout",
     "output_type": "stream",
     "text": [
      "   created_at               id_str  \\\n",
      "0  2023-11-01  1719645824047788466   \n",
      "1  2023-11-01  1719637674661912853   \n",
      "2  2023-11-01  1719614232235475176   \n",
      "3  2023-11-02  1720046042262204510   \n",
      "4  2023-11-02  1720043558672159108   \n",
      "\n",
      "                                           full_text lang location  \n",
      "0  Sementara itu pasangan Prabowo-Gibran diusung ...   in      NaN  \n",
      "1  Sementara itu pasangan Prabowo-Gibran diusung ...   in      NaN  \n",
      "2  Sementara itu pasangan Prabowo-Gibran diusung ...   in      NaN  \n",
      "3  Kader Partai Gerakan Indonesia Raya (Gerindra)...   in      NaN  \n",
      "4  Kader Partai Gerakan Indonesia Raya (Gerindra)...   in      NaN  \n",
      "   created_at               id_str  \\\n",
      "0  2023-11-01  1719645824047788466   \n",
      "1  2023-11-01  1719637674661912853   \n",
      "2  2023-11-01  1719614232235475176   \n",
      "3  2023-11-02  1720045422960595334   \n",
      "4  2023-11-02  1720039369808154652   \n",
      "\n",
      "                                           full_text lang location  \n",
      "0  Sementara itu pasangan Prabowo-Gibran diusung ...   in      NaN  \n",
      "1  Sementara itu pasangan Prabowo-Gibran diusung ...   in      NaN  \n",
      "2  Sementara itu pasangan Prabowo-Gibran diusung ...   in      NaN  \n",
      "3  JAKARTA  - Partai Golongan Karya (Golkar) meng...   in      NaN  \n",
      "4  Sementara itu pasangan Prabowo-Gibran diusung ...   in      NaN  \n",
      "   created_at               id_str  \\\n",
      "0  2023-11-01  1719660675650441439   \n",
      "1  2023-11-01  1719660672882270614   \n",
      "2  2023-11-01  1719654847258218600   \n",
      "3  2023-11-01  1719654057068077190   \n",
      "4  2023-11-01  1719645824047788466   \n",
      "\n",
      "                                           full_text lang location  \n",
      "0  Ketika dimintai keterangan Zita Anjani Ketua D...   in      NaN  \n",
      "1  Pagi ini di kediaman Zulkifli Hasan di kawasan...   in      NaN  \n",
      "2  Erick bahkan didorong Partai Amanat Nasional (...   in      NaN  \n",
      "3  Sebelumnya diketahui Partai Amanat Nasional (P...   in      NaN  \n",
      "4  Sementara itu pasangan Prabowo-Gibran diusung ...   in      NaN  \n",
      "   created_at               id_str  \\\n",
      "0  2023-11-01  1719861119576330630   \n",
      "1  2023-11-01  1719860019230093712   \n",
      "2  2023-11-01  1719852446250594776   \n",
      "3  2023-11-01  1719840962472808891   \n",
      "4  2023-11-01  1719835665721151498   \n",
      "\n",
      "                                           full_text lang            location  \n",
      "0  Maaf bukankah partai Demokrat dulu yg mengolka...   in                 NaN  \n",
      "1  Survey suara partai di Jatim 1. PDIP 17 8% 2. ...   in          Indonesia   \n",
      "2  Serap aspirasi masyarakat Demokrat komitmen pe...   in                 NaN  \n",
      "3  Santai sj pak. RK itu Golkar. Katanya nggak ak...   in  Jakarta, Indonesia  \n",
      "4  Bukan hanya dia tp yg dr partai demokrat tuh s...   in             Unknown  \n",
      "   created_at               id_str  \\\n",
      "0  2023-11-01  1719659686423921120   \n",
      "1  2023-11-01  1719659651393073500   \n",
      "2  2023-11-01  1719659397776040058   \n",
      "3  2023-11-01  1719645817521484091   \n",
      "4  2023-11-01  1719644847450300818   \n",
      "\n",
      "                                           full_text lang location  \n",
      "0  Di Hadapan Legislator PKS Jatijaya Irwan Prayi...   in   bekasi  \n",
      "1  Ketua FPKS DPR RI: Jatijaya Harapan Besar Keme...   in   bekasi  \n",
      "2  PKS Menyapa Warga di PMI Cikarang Utara: Senam...   in   bekasi  \n",
      "3  Pasangan Anies-Muhaimin diusung oleh Partai Na...   in      NaN  \n",
      "4  Di Hadapan Legislator PKS Jatijaya Irwan Prayi...   in      NaN  \n",
      "   created_at               id_str  \\\n",
      "0  2023-11-01  1719779730457805037   \n",
      "1  2023-11-01  1719718073295597577   \n",
      "2  2023-11-01  1719622918752416225   \n",
      "3  2023-11-02  1720041206913376631   \n",
      "4  2023-11-02  1720007494561640606   \n",
      "\n",
      "                                           full_text lang          location  \n",
      "0  Pasca Pertemuan para Calon Presiden dengan Pre...   in         Indonesia  \n",
      "1  Wakil Ketua Umum (Waketum) Partai NasDem Ahmad...   in               NaN  \n",
      "2  Partai Golkar Partai Amanat Nasional (PAN) Par...   in  Jakarta Selatan   \n",
      "3  Ketua DPP Partai Demokrat Herman Khaeron menga...   in               NaN  \n",
      "4  Koalisi ini didukung oleh empat partai politik...   in               NaN  \n",
      "   created_at               id_str  \\\n",
      "0  2023-11-01  1719695451304411569   \n",
      "1  2023-11-01  1719670955880968261   \n",
      "2  2023-11-01  1719662134689468477   \n",
      "3  2023-11-01  1719654443300610215   \n",
      "4  2023-11-01  1719645820793061716   \n",
      "\n",
      "                                           full_text lang  \\\n",
      "0  PARTAI Demokrasi Indonesia Perjuangan (PDIP) m...   in   \n",
      "1  Menurut survei Indikator Politik Indonesia Par...   in   \n",
      "2  H. Mohamad Guntur Romli (lahir 17 Maret 1978) ...   in   \n",
      "3  Budi Arie dengan santai menepis anggapan bahwa...   in   \n",
      "4  Pasangan Ganjar-Mahfud Md. diusung oleh Partai...   in   \n",
      "\n",
      "                location  \n",
      "0    Jakarta - Indonesia  \n",
      "1                    NaN  \n",
      "2  Jawa Timur, Indonesia  \n",
      "3                    NaN  \n",
      "4                    NaN  \n",
      "   created_at               id_str  \\\n",
      "0  2023-11-01  1719701125346267186   \n",
      "1  2023-11-01  1719679049700872517   \n",
      "2  2023-11-01  1719659647211315225   \n",
      "3  2023-11-01  1719645817521484091   \n",
      "4  2023-11-01  1719637665665147224   \n",
      "\n",
      "                                           full_text lang location  \n",
      "0  Ketua DPP Partai Kebangkitan Bangsa (PKB) Dani...   in      NaN  \n",
      "1  Partai kebangkitan Bangsa yang selama ini yang...   in      NaN  \n",
      "2                          partai kebangkitan bangsa   in   BLITAR  \n",
      "3  Pasangan Anies-Muhaimin diusung oleh Partai Na...   in      NaN  \n",
      "4  Pasangan Anies-Muhaimin diusung oleh Partai Na...   in      NaN  \n"
     ]
    }
   ],
   "source": [
    "for i in range(len(data_partai)):\n",
    "    data_partai[i]['full_text'] = data_partai[i]['full_text'].apply(remove_links)\n",
    "    print(data_partai[i].head())"
   ]
  },
  {
   "cell_type": "markdown",
   "id": "e0b71688",
   "metadata": {},
   "source": [
    "## Filter Data"
   ]
  },
  {
   "cell_type": "code",
   "execution_count": 231,
   "id": "aa193d4b",
   "metadata": {},
   "outputs": [],
   "source": [
    "def filter_by_keywords(df, keyword_pattern):\n",
    "    if 'full_text' in df.columns:\n",
    "        return df[df['full_text'].str.contains(keyword_pattern, flags=re.IGNORECASE, regex=True, na=False)]"
   ]
  },
  {
   "cell_type": "markdown",
   "id": "9013acb3",
   "metadata": {},
   "source": [
    "### Gerindra"
   ]
  },
  {
   "cell_type": "code",
   "execution_count": 232,
   "id": "2c39f5eb",
   "metadata": {},
   "outputs": [],
   "source": [
    "keyword_pattern = r'\\bgerindra\\b|\\bgerakan indonesia raya\\b|\\bprabowo\\b|\\bgibran\\b'\n",
    "data_partai[0]['full_text'] = data_partai[0]['full_text'].astype(str).apply(lambda x: re.sub(r'\\s+', ' ', x).strip())\n",
    "data_partai[0] = filter_by_keywords(data_partai[0], keyword_pattern)"
   ]
  },
  {
   "cell_type": "markdown",
   "id": "7f93852a",
   "metadata": {},
   "source": [
    "### Golkar"
   ]
  },
  {
   "cell_type": "code",
   "execution_count": 233,
   "id": "0eb13808",
   "metadata": {},
   "outputs": [],
   "source": [
    "keyword_pattern = r'\\bgolkar\\b|\\bgolongan karya\\b|\\bprabowo\\b|\\bgibran\\b'\n",
    "data_partai[1]['full_text'] = data_partai[1]['full_text'].astype(str).apply(lambda x: re.sub(r'\\s+', ' ', x).strip())\n",
    "data_partai[1] = filter_by_keywords(data_partai[1], keyword_pattern)"
   ]
  },
  {
   "cell_type": "markdown",
   "id": "890a3985",
   "metadata": {},
   "source": [
    "### PAN"
   ]
  },
  {
   "cell_type": "code",
   "execution_count": 234,
   "id": "2ed80b32",
   "metadata": {},
   "outputs": [],
   "source": [
    "keyword_pattern = r'\\bPAN\\b|\\bpartai amanat nasional\\b|\\bprabowo\\b|\\bgibran\\b'\n",
    "data_partai[2]['full_text'] = data_partai[2]['full_text'].astype(str).apply(lambda x: re.sub(r'\\s+', ' ', x).strip())\n",
    "data_partai[2] = filter_by_keywords(data_partai[2], keyword_pattern)"
   ]
  },
  {
   "cell_type": "markdown",
   "id": "825b8255",
   "metadata": {},
   "source": [
    "### Demokrat"
   ]
  },
  {
   "cell_type": "code",
   "execution_count": 235,
   "id": "05f9d90e",
   "metadata": {},
   "outputs": [],
   "source": [
    "keyword_pattern = r'\\bdemokrat\\b|\\bprabowo\\b|\\bgibran\\b'\n",
    "data_partai[3]['full_text'] = data_partai[3]['full_text'].astype(str).apply(lambda x: re.sub(r'\\s+', ' ', x).strip())\n",
    "data_partai[3] = filter_by_keywords(data_partai[3], keyword_pattern)"
   ]
  },
  {
   "cell_type": "markdown",
   "id": "30b85a18",
   "metadata": {},
   "source": [
    "### PKS"
   ]
  },
  {
   "cell_type": "code",
   "execution_count": 236,
   "id": "e5b94d87",
   "metadata": {},
   "outputs": [],
   "source": [
    "keyword_pattern = r'\\bPKS\\b|\\bPartai Keadilan Sejahtera\\b|\\banies\\b|\\banis\\b|cak[\\s\\-_]?imin|\\bimin\\b'\n",
    "data_partai[4]['full_text'] = data_partai[4]['full_text'].astype(str).apply(lambda x: re.sub(r'\\s+', ' ', x).strip())\n",
    "data_partai[4] = filter_by_keywords(data_partai[4], keyword_pattern)"
   ]
  },
  {
   "cell_type": "markdown",
   "id": "ac20ff0f",
   "metadata": {},
   "source": [
    "### Nasdem"
   ]
  },
  {
   "cell_type": "code",
   "execution_count": 237,
   "id": "79334f55",
   "metadata": {},
   "outputs": [],
   "source": [
    "keyword_pattern = r'\\bNasdem\\b|\\bPartai Nasional Demokrat\\b|\\banies\\b|\\banis\\b|cak[\\s\\-_]?imin|\\bimin\\b'\n",
    "data_partai[5]['full_text'] = data_partai[5]['full_text'].astype(str).apply(lambda x: re.sub(r'\\s+', ' ', x).strip())\n",
    "data_partai[5] = filter_by_keywords(data_partai[5], keyword_pattern)"
   ]
  },
  {
   "cell_type": "markdown",
   "id": "3bf25fcf",
   "metadata": {},
   "source": [
    "### PDIP"
   ]
  },
  {
   "cell_type": "code",
   "execution_count": 238,
   "id": "bdb50d5e",
   "metadata": {},
   "outputs": [],
   "source": [
    "keyword_pattern = r'\\bPDIP\\b|\\bPartai Demokrasi Indonesia Perjuangan\\b|\\bganjar\\b|\\bmahfud\\b'\n",
    "data_partai[6]['full_text'] = data_partai[6]['full_text'].astype(str).apply(lambda x: re.sub(r'\\s+', ' ', x).strip())\n",
    "data_partai[6] = filter_by_keywords(data_partai[6], keyword_pattern)"
   ]
  },
  {
   "cell_type": "markdown",
   "id": "c85be965",
   "metadata": {},
   "source": [
    "### PKB"
   ]
  },
  {
   "cell_type": "code",
   "execution_count": 239,
   "id": "9e10e024",
   "metadata": {},
   "outputs": [],
   "source": [
    "keyword_pattern = r'\\bPKB\\b|\\bPartai Kebangkitan Bangsa\\b|\\banies\\b|\\banis\\b|cak[\\s\\-_]?imin|\\bimin\\b'\n",
    "data_partai[7]['full_text'] = data_partai[7]['full_text'].astype(str).apply(lambda x: re.sub(r'\\s+', ' ', x).strip())\n",
    "data_partai[7] = filter_by_keywords(data_partai[7], keyword_pattern)"
   ]
  },
  {
   "cell_type": "code",
   "execution_count": 240,
   "id": "c128059b",
   "metadata": {},
   "outputs": [
    {
     "name": "stdout",
     "output_type": "stream",
     "text": [
      "1313\n",
      "==================================\n",
      "777\n",
      "==================================\n",
      "851\n",
      "==================================\n",
      "3282\n",
      "==================================\n",
      "3200\n",
      "==================================\n",
      "381\n",
      "==================================\n",
      "674\n",
      "==================================\n",
      "596\n",
      "==================================\n"
     ]
    }
   ],
   "source": [
    "for i in range(len(data_partai)):\n",
    "    print(len(data_partai[i]))\n",
    "    print(\"==================================\")"
   ]
  },
  {
   "cell_type": "markdown",
   "id": "342c30b3",
   "metadata": {},
   "source": [
    "## Replace &amp to &"
   ]
  },
  {
   "cell_type": "code",
   "execution_count": 241,
   "id": "60abfd45",
   "metadata": {},
   "outputs": [
    {
     "name": "stderr",
     "output_type": "stream",
     "text": [
      "C:\\Users\\asus\\AppData\\Local\\Temp\\ipykernel_15340\\3340926544.py:2: SettingWithCopyWarning: \n",
      "A value is trying to be set on a copy of a slice from a DataFrame.\n",
      "Try using .loc[row_indexer,col_indexer] = value instead\n",
      "\n",
      "See the caveats in the documentation: https://pandas.pydata.org/pandas-docs/stable/user_guide/indexing.html#returning-a-view-versus-a-copy\n",
      "  data_partai[i]['full_text'] = data_partai[i]['full_text'].str.replace(r'&amp', '&', regex=False)\n"
     ]
    }
   ],
   "source": [
    "for i in range(len(data_partai)):\n",
    "    data_partai[i]['full_text'] = data_partai[i]['full_text'].str.replace(r'&amp', '&', regex=False)"
   ]
  },
  {
   "cell_type": "code",
   "execution_count": 242,
   "id": "31a4d825",
   "metadata": {},
   "outputs": [],
   "source": [
    "def normalize_comments(text):\n",
    "    # Remove emojis by filtering out any character in emoji.EMOJI_DATA\n",
    "    emojis = [c for c in text if c not in emoji.EMOJI_DATA]\n",
    "\n",
    "    # Buat text menjadi lower case\n",
    "    text = text.lower()\n",
    "    \n",
    "\n",
    "    # Bersihkan teks dari karakter khusus\n",
    "    text = re.sub(r'[^\\w\\s]', ' ', text)\n",
    "\n",
    "    # Bersihkan karakter yang berulang\n",
    "    normal_regex = re.compile(r\"(.)\\1{1,}\") # compiling regex pattern for a repeating character in a word (e.g., haiiii -> 'i' is repeated several times)\n",
    "    text = normal_regex.sub(r\"\\1\\1\", text) # removing the repeating characters \n",
    "    \n",
    "    # Hapus multiple spaces\n",
    "    text = re.sub(r'\\s+', ' ', text).strip()\n",
    "       \n",
    "    return text"
   ]
  },
  {
   "cell_type": "code",
   "execution_count": 243,
   "id": "d4576633",
   "metadata": {},
   "outputs": [
    {
     "name": "stderr",
     "output_type": "stream",
     "text": [
      "C:\\Users\\asus\\AppData\\Local\\Temp\\ipykernel_15340\\273322499.py:2: SettingWithCopyWarning: \n",
      "A value is trying to be set on a copy of a slice from a DataFrame.\n",
      "Try using .loc[row_indexer,col_indexer] = value instead\n",
      "\n",
      "See the caveats in the documentation: https://pandas.pydata.org/pandas-docs/stable/user_guide/indexing.html#returning-a-view-versus-a-copy\n",
      "  data_partai[i]['full_text'] = data_partai[i]['full_text'].apply(normalize_comments)\n"
     ]
    }
   ],
   "source": [
    "for i in range(len(data_partai)):\n",
    "    data_partai[i]['full_text'] = data_partai[i]['full_text'].apply(normalize_comments)"
   ]
  },
  {
   "cell_type": "code",
   "execution_count": 244,
   "id": "cc9020b6",
   "metadata": {},
   "outputs": [],
   "source": [
    "for i in range(len(data_partai)):\n",
    "    data_partai[i] = data_partai[i].drop_duplicates(subset=['id_str', 'full_text'])"
   ]
  },
  {
   "cell_type": "markdown",
   "id": "9b994889",
   "metadata": {},
   "source": [
    "## Standarization"
   ]
  },
  {
   "cell_type": "code",
   "execution_count": 245,
   "id": "77fa1c79",
   "metadata": {},
   "outputs": [],
   "source": [
    "import json\n",
    "\n",
    "def load_dict_from_json_file(filename):\n",
    "    with open(filename, 'r', encoding='utf-8') as file:\n",
    "        dictionary = json.load(file)\n",
    "    return dictionary"
   ]
  },
  {
   "cell_type": "code",
   "execution_count": 246,
   "id": "218633e3",
   "metadata": {},
   "outputs": [],
   "source": [
    "my_dict = load_dict_from_json_file('combined_slang_words.txt')"
   ]
  },
  {
   "cell_type": "code",
   "execution_count": 247,
   "id": "5bb32e47",
   "metadata": {},
   "outputs": [],
   "source": [
    "def normalize_slang_words(text, slang_words_dict=my_dict):\n",
    "    words = text.split()\n",
    "    standarized_words = []\n",
    "    for word in words:\n",
    "        standarized_word = slang_words_dict.get(word, word) # Mengembalikan kata asli jika kata tidak ditemukan dalam dict \n",
    "        standarized_words.append(standarized_word)\n",
    "    return ' '.join(standarized_words)"
   ]
  },
  {
   "cell_type": "code",
   "execution_count": 248,
   "id": "48bc3e99",
   "metadata": {},
   "outputs": [],
   "source": [
    "for i in range(len(data_partai)):\n",
    "    data_partai[i]['full_text'] = data_partai[i]['full_text'].apply(normalize_slang_words)"
   ]
  },
  {
   "cell_type": "code",
   "execution_count": 249,
   "id": "66ddcc62",
   "metadata": {},
   "outputs": [],
   "source": [
    "nama_partai = ['gerindra', 'golkar', 'pan', 'demokrat', 'pks', 'nasdem', 'pdip', 'pkb']\n",
    "for i in range(len(data_partai)):\n",
    "    data_partai[i].to_csv(f'dataset/{nama_partai[i]}_full_context.csv', index=False)"
   ]
  },
  {
   "cell_type": "markdown",
   "id": "c5e9e7f8",
   "metadata": {},
   "source": [
    "## Removing Stop Words"
   ]
  },
  {
   "cell_type": "code",
   "execution_count": 250,
   "id": "6c3fcd99",
   "metadata": {},
   "outputs": [],
   "source": [
    "def remove_whitespace(text):\n",
    "    if not isinstance(text, str):\n",
    "        return text  \n",
    "    \n",
    "    return ' '.join(text.split())"
   ]
  },
  {
   "cell_type": "code",
   "execution_count": 251,
   "id": "dd7b768f",
   "metadata": {},
   "outputs": [],
   "source": [
    "def remove_stopwords(text):\n",
    "    if not isinstance(text, str):\n",
    "        return text  \n",
    "    text = remove_whitespace(text)\n",
    "    stop_words = set(stopwords.words('indonesian')) \n",
    "    stop_words.update(['iya', 'engga', 'gak', 'enggak', 'ga', 'dn', 'klu', 'klo', 'kalo', 'klo', 'nya'])\n",
    "    tokens = nltk.word_tokenize(text)\n",
    "    filtered_tokens = [word for word in tokens if word.lower() not in stop_words]\n",
    "    return ' '.join(filtered_tokens)"
   ]
  },
  {
   "cell_type": "code",
   "execution_count": 252,
   "id": "803a39fe",
   "metadata": {},
   "outputs": [],
   "source": [
    "for i in range(len(data_partai)):\n",
    "    data_partai[i]['full_text'] = data_partai[i]['full_text'].apply(remove_stopwords)"
   ]
  },
  {
   "cell_type": "markdown",
   "id": "952c323c",
   "metadata": {},
   "source": [
    "## Stemming Data"
   ]
  },
  {
   "cell_type": "code",
   "execution_count": 253,
   "id": "f68b3489",
   "metadata": {},
   "outputs": [],
   "source": [
    "factory = StemmerFactory()\n",
    "stemmer = factory.create_stemmer()"
   ]
  },
  {
   "cell_type": "code",
   "execution_count": 254,
   "id": "5ad2c3f3",
   "metadata": {},
   "outputs": [],
   "source": [
    "def stemming(text):\n",
    "    if not isinstance(text, str):\n",
    "        return text  \n",
    "    \n",
    "    token = nltk.word_tokenize(text)\n",
    "    stem_kalimat = []\n",
    "    for k in token:\n",
    "        stem_kata = stemmer.stem(k)\n",
    "        stem_kalimat.append(stem_kata)\n",
    "\n",
    "    stem_kalimat_str = ' '.join(stem_kalimat)\n",
    "    return stem_kalimat_str"
   ]
  },
  {
   "cell_type": "code",
   "execution_count": 255,
   "id": "e204881c",
   "metadata": {},
   "outputs": [],
   "source": [
    "from tqdm import tqdm\n",
    "tqdm.pandas()"
   ]
  },
  {
   "cell_type": "code",
   "execution_count": 256,
   "id": "37d45312",
   "metadata": {},
   "outputs": [
    {
     "name": "stderr",
     "output_type": "stream",
     "text": [
      "100%|██████████| 1313/1313 [05:13<00:00,  4.19it/s]\n",
      "100%|██████████| 777/777 [01:51<00:00,  6.96it/s]\n",
      "100%|██████████| 851/851 [01:19<00:00, 10.64it/s]\n",
      "100%|██████████| 3282/3282 [05:36<00:00,  9.75it/s]\n",
      "100%|██████████| 3200/3200 [02:32<00:00, 21.02it/s] \n",
      "100%|██████████| 381/381 [00:51<00:00,  7.40it/s]\n",
      "100%|██████████| 674/674 [01:05<00:00, 10.35it/s]\n",
      "100%|██████████| 596/596 [01:04<00:00,  9.23it/s]\n"
     ]
    }
   ],
   "source": [
    "for i in range(len(data_partai)):\n",
    "    data_partai[i]['full_text'] = data_partai[i]['full_text'].progress_apply(stemming)"
   ]
  },
  {
   "cell_type": "code",
   "execution_count": 257,
   "id": "b449df29",
   "metadata": {},
   "outputs": [],
   "source": [
    "for i in range(len(data_partai)):\n",
    "    data_partai[i].to_csv(f'dataset/{nama_partai[i]}_stemmed.csv', index=False)"
   ]
  }
 ],
 "metadata": {
  "kernelspec": {
   "display_name": "env",
   "language": "python",
   "name": "python3"
  },
  "language_info": {
   "codemirror_mode": {
    "name": "ipython",
    "version": 3
   },
   "file_extension": ".py",
   "mimetype": "text/x-python",
   "name": "python",
   "nbconvert_exporter": "python",
   "pygments_lexer": "ipython3",
   "version": "3.12.3"
  }
 },
 "nbformat": 4,
 "nbformat_minor": 5
}
